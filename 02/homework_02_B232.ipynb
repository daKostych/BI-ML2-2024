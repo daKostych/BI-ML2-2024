{
 "cells": [
  {
   "cell_type": "markdown",
   "metadata": {},
   "source": [
    "# Úkol č. 2 - Využití neuronových sítí\n",
    "\n",
    "  * **Deadline je 13. 5. 2024, 23:59:59**, pokud odevzdáte úkol do 20. 5. 2024, 23:59:59, budete penalizování -12 body, pozdější odevzdání je bez bodu.\n",
    "  * V rámci tohoto úkolu musíte sestrojit vhodný model neuronové sítě pro vícetřídou klasifikaci.\n",
    "  * Část bodů získáte za správné vypracování a část bodů získáte za výslednou přesnost Vašeho modelu na evaluačních datech.\n",
    "    \n",
    "> **Úkoly jsou zadány tak, aby Vám daly prostor pro invenci. Vymyslet _jak přesně_ budete úkol řešit, je důležitou součástí zadání a originalita či nápaditost bude také hodnocena!**\n",
    "\n",
    "Využívejte buňky typu `Markdown` k vysvětlování Vašeho postupu. Za nepřehlednost budou strhávány body.\n",
    "\n",
    "## Zdroj dat\n",
    "\n",
    " * Zdrojem dat jsou soubory `train.csv` a `evaluate.csv`.\n",
    " * Jedná se o obrázky 32x32 pixelů ve stupních šedi, které byly nějakým způsobem vyrobeny z [Fashion Mnist datasetu](https://www.kaggle.com/datasets/zalando-research/fashionmnist).\n",
    " * Soubor `train.csv` obsahuje trénovací data.\n",
    " * Cílová (vysvětlovaná) proměnná se jmenuje **label**.\n",
    " * Soubor `evaluate.csv` obsahuje testovací data bez hodnot skutečných labelů.\n",
    "\n",
    "## Pokyny k vypracování (max 18 bodů)\n",
    "\n",
    "**Body zadání**, za jejichž (poctivé) vypracování získáte **18 bodů**:\n",
    "  * V notebooku načtěte data ze souboru `train.csv`. Vhodným způsobem si je rozdělte na podmnožiny, které Vám poslouží pro trénování, porovnávání modelů a následnou predikci výkonnosti finálního modelu.\n",
    "  * Proveďte základní průzkum dat a svá pozorování diskutujte. Některé obrázky také zobrazte.\n",
    "  * Sestrojte a natrénujte několik variant modelu dopředné neuronové sítě. Přitom v rámci výpočetních možností:\n",
    "      * Okomentujte vhodnost daného modelu pro daný typ úlohy.\n",
    "      * Experimentujte s různými hloubkami a velikosmi vrstev.\n",
    "      * Experimentujte se standardizací/normalizací dat.\n",
    "      * Experimentujte s různými optimalizačními metodami.\n",
    "      * Experimentujte s různými regularizačními technikami.\n",
    "      * Získané výsledky vždy řádně okomentujte.\n",
    "\n",
    "  * Sestrojte model konvoluční neuronové sítě. Přitom v rámci výpočetních možností:\n",
    "      * Okomentujte vhodnost daného modelu pro daný typ úlohy.\n",
    "      * Experimentujte s různými hloubkami a velikosmi vrstev.\n",
    "      * Experimentujte se standardizací/normalizací dat.\n",
    "      * Experimentujte s různými optimalizačními metodami.\n",
    "      * Experimentujte s různými regularizačními technikami.\n",
    "      * Získané výsledky vždy řádně okomentujte.\n",
    "    \n",
    "  * Ze všech zkoušených možností vyberte finální model a odhadněte, jakou přesnost můžete očekávat na nových datech, která jste doposud neměli k dispozici.\n",
    "  \n",
    "  * Nakonec načtěte vyhodnocovací data ze souboru`evaluate.csv`. Pomocí finálního modelu napočítejte predikce pro tyto data (vysvětlovaná proměnná v nich již není). Vytvořte soubor `results.csv`, ve kterém získané predikce uložíte do sloupce **label** a identifikátory do sloupce **ID**. Tento soubor též odevzdejte (uložte do projektu vedle notebooku).\n",
    "   \n",
    "   * Ukázka prvních řádků souboru `results.csv`:\n",
    "  \n",
    "```\n",
    "ID,label\n",
    "0,0\n",
    "1,1\n",
    "...\n",
    "```\n",
    "\n",
    "## Vyhodnocovací část (max 7 bodů)\n",
    "Za přesnost (accuraccy) na odevzdaných predikcích pro vyhodnocovací množnu získáte dalších max **7 bodů**.\n",
    "\n",
    "Označíme-li $A$ přesnost, které jste dosáhli, zaokrouhlenou na 2 desetinná místa, akumulují se výsledné body podle následujících pravidel:\n",
    "* pokud $A \\geq 0.80$ obdržíte +1 bod\n",
    "* pokud $A \\geq 0.83$ obdržíte +1 bod\n",
    "* pokud $A \\geq 0.86$ obdržíte +1 bod\n",
    "* pokud $A \\geq 0.87$ obdržíte +1 bod\n",
    "* pokud $A \\geq 0.88$ obdržíte +1 bod\n",
    "* pokud $A \\geq 0.89$ obdržíte +1 bod\n",
    "* pokud $A \\geq 0.90$ obdržíte +1 bod\n",
    "\n",
    "**Příklad:** Pokud bude Vaše přesnost 0.856, vyjde A = 0.86 a vy získáte 3 body.\n",
    "\n",
    "\n",
    "## Poznámky k odevzdání\n",
    "\n",
    "  * Řiďte se pokyny ze stránky https://courses.fit.cvut.cz/BI-ML2/homeworks/index.html.\n",
    "  * Vytvořte i csv soubor `results.csv` s predikcemi a uložte ho v rámci projektu vedle ipython notebooku."
   ]
  },
  {
   "metadata": {},
   "cell_type": "markdown",
   "source": "Naimportujeme vše potřebné a přiřadíme proměnné `device` grafickou kartu, na které bude probíhat trénování modelů pro urychlení procesu."
  },
  {
   "cell_type": "code",
   "metadata": {
    "ExecuteTime": {
     "end_time": "2024-05-06T11:52:48.341854Z",
     "start_time": "2024-05-06T11:52:48.325896Z"
    }
   },
   "source": [
    "import os\n",
    "\n",
    "import numpy as np\n",
    "import pandas as pd\n",
    "\n",
    "from sklearn.model_selection import train_test_split\n",
    "from sklearn.preprocessing import StandardScaler\n",
    "from sklearn.preprocessing import MinMaxScaler\n",
    "from sklearn.metrics import accuracy_score\n",
    "from sklearn.metrics import confusion_matrix\n",
    "\n",
    "import torch\n",
    "from torch.utils.data import DataLoader\n",
    "import torch.nn as nn\n",
    "import torch.nn.functional as F\n",
    "\n",
    "from tqdm import tqdm\n",
    "\n",
    "import matplotlib.pyplot as plt\n",
    "%matplotlib inline\n",
    "\n",
    "rd_seed = 999\n",
    "\n",
    "if torch.cuda.is_available():\n",
    "    # Set the CUDA device to 0 (the first GPU)\n",
    "    torch.cuda.set_device(0)\n",
    "    device = torch.device(\"cuda:0\")\n",
    "    print(\"CUDA device set to:\", torch.cuda.get_device_name(0))\n",
    "else:\n",
    "    device = torch.device(\"cpu\")\n",
    "    print(\"CUDA is not available. Using CPU instead.\")"
   ],
   "outputs": [
    {
     "name": "stdout",
     "output_type": "stream",
     "text": [
      "CUDA device set to: NVIDIA GeForce RTX 2060\n"
     ]
    }
   ],
   "execution_count": 355
  },
  {
   "metadata": {
    "ExecuteTime": {
     "end_time": "2024-05-06T11:52:55.160564Z",
     "start_time": "2024-05-06T11:52:50.085757Z"
    }
   },
   "cell_type": "code",
   "source": [
    "# Load the dataset from the CSV file into a pandas DataFrame\n",
    "pictures = pd.read_csv(\"train.csv\")"
   ],
   "outputs": [],
   "execution_count": 356
  },
  {
   "metadata": {
    "ExecuteTime": {
     "end_time": "2024-05-06T11:52:55.215682Z",
     "start_time": "2024-05-06T11:52:55.164058Z"
    }
   },
   "cell_type": "code",
   "source": [
    "# Print basic information about the DataFrame\n",
    "pictures.info()"
   ],
   "outputs": [
    {
     "name": "stdout",
     "output_type": "stream",
     "text": [
      "<class 'pandas.core.frame.DataFrame'>\n",
      "RangeIndex: 52500 entries, 0 to 52499\n",
      "Columns: 1025 entries, pix1 to label\n",
      "dtypes: int64(1025)\n",
      "memory usage: 410.6 MB\n"
     ]
    }
   ],
   "execution_count": 357
  },
  {
   "metadata": {
    "ExecuteTime": {
     "end_time": "2024-05-06T11:52:55.223816Z",
     "start_time": "2024-05-06T11:52:55.218536Z"
    }
   },
   "cell_type": "code",
   "source": [
    "unique_labels = np.sort(pictures[\"label\"].unique())\n",
    "print(f'Unique image labels: {unique_labels}')"
   ],
   "outputs": [
    {
     "name": "stdout",
     "output_type": "stream",
     "text": [
      "Unique image labels: [0 1 2 3 4 5 6 7 8 9]\n"
     ]
    }
   ],
   "execution_count": 358
  },
  {
   "metadata": {},
   "cell_type": "markdown",
   "source": "Vykreslíme první obrázky, které odpovídají jednomu z labelů."
  },
  {
   "metadata": {
    "ExecuteTime": {
     "end_time": "2024-05-06T13:01:01.709531Z",
     "start_time": "2024-05-06T13:00:57.920113Z"
    }
   },
   "cell_type": "code",
   "source": [
    "images = []\n",
    "for i, label in enumerate(unique_labels):\n",
    "    # Find the first image with the current label\n",
    "    image = pictures[pictures['label'] == label].iloc[0, 0:1024].values.reshape(32, 32)\n",
    "    images.append(image)\n",
    "\n",
    "    # Displaying the image\n",
    "    plt.subplot(2, 5, i + 1)\n",
    "    plt.imshow(image, cmap='gray')\n",
    "    plt.title(str(label))\n",
    "    plt.axis('off')\n",
    "\n",
    "plt.tight_layout()\n",
    "plt.show()"
   ],
   "outputs": [
    {
     "data": {
      "text/plain": [
       "<Figure size 640x480 with 10 Axes>"
      ],
      "image/png": "[encoded data removed]"
     },
     "metadata": {},
     "output_type": "display_data"
    }
   ],
   "execution_count": 439
  },
  {
   "metadata": {},
   "cell_type": "markdown",
   "source": [
    "Význam každého lablu:\n",
    "   0. Tričko/top\n",
    "   1. Kalhoty\n",
    "   2. Svetr\n",
    "   3. Šaty\n",
    "   4. Kabát\n",
    "   5. Sandál\n",
    "   6. Košile\n",
    "   7. Teniska\n",
    "   8. Taška\n",
    "   9. Kotníková obuv"
   ]
  },
  {
   "metadata": {},
   "cell_type": "markdown",
   "source": [
    "Nejprve provedeme některé přípravné akce:\n",
    "* Data rozdělíme do tří částí: trénovací, validační a testovací v poměru 60/24/16 %.\n",
    "* Vytvoříme kopie datasetu, které budou normalizovány pomocí MinMax normalizace a standartizace.\n",
    "* Připravíme funkce, které budou při řešení tohoto úkolu nezbytné."
   ]
  },
  {
   "metadata": {
    "ExecuteTime": {
     "end_time": "2024-05-06T11:52:57.791875Z",
     "start_time": "2024-05-06T11:52:56.326955Z"
    }
   },
   "cell_type": "code",
   "source": [
    "# Split the training dataset into 60% train and 40% rest\n",
    "Xtrain, Xrest, ytrain, yrest = train_test_split(pictures.drop(columns=['label']), pictures.label, test_size=0.4, random_state = rd_seed)\n",
    "\n",
    "# Split the rest of the data into 0.6*0.4=24% validation, 0.4*0.4=16% test\n",
    "Xtest, Xval, ytest, yval = train_test_split(Xrest, yrest, test_size=0.6, random_state = rd_seed)\n",
    "\n",
    "print(f\"Train rozměry, X: {Xtrain.shape}, y: {ytrain.shape}\")\n",
    "print(f\"Val rozměry, X: {Xval.shape}, y: {yval.shape}\")\n",
    "print(f\"Test rozměry, X: {Xtest.shape}, y: {ytest.shape}\")"
   ],
   "outputs": [
    {
     "name": "stdout",
     "output_type": "stream",
     "text": [
      "Train rozměry, X: (31500, 1024), y: (31500,)\n",
      "Val rozměry, X: (12600, 1024), y: (12600,)\n",
      "Test rozměry, X: (8400, 1024), y: (8400,)\n"
     ]
    }
   ],
   "execution_count": 360
  },
  {
   "metadata": {
    "ExecuteTime": {
     "end_time": "2024-05-06T11:52:59.799314Z",
     "start_time": "2024-05-06T11:52:57.794567Z"
    }
   },
   "cell_type": "code",
   "source": [
    "# Fit the StandardScaler to the training data\n",
    "standard_scaler = StandardScaler().fit(Xtrain)\n",
    "\n",
    "# Transform the training, validation, and test data using the fitted scaler\n",
    "Xtrain_standard = standard_scaler.transform(Xtrain)\n",
    "Xval_standard = standard_scaler.transform(Xval)\n",
    "Xtest_standard = standard_scaler.transform(Xtest)"
   ],
   "outputs": [],
   "execution_count": 361
  },
  {
   "metadata": {
    "ExecuteTime": {
     "end_time": "2024-05-06T11:52:59.812840Z",
     "start_time": "2024-05-06T11:52:59.802064Z"
    }
   },
   "cell_type": "code",
   "source": "print(Xtrain_standard.shape)",
   "outputs": [
    {
     "name": "stdout",
     "output_type": "stream",
     "text": [
      "(31500, 1024)\n"
     ]
    }
   ],
   "execution_count": 362
  },
  {
   "metadata": {
    "ExecuteTime": {
     "end_time": "2024-05-06T11:53:00.788733Z",
     "start_time": "2024-05-06T11:52:59.815614Z"
    }
   },
   "cell_type": "code",
   "source": [
    "# Fit the MinMaxScaler to the training data\n",
    "minMax_scaler = MinMaxScaler().fit(Xtrain)\n",
    "\n",
    "# Transform the training, validation, and test data using the fitted scaler\n",
    "Xtrain_minMax = minMax_scaler.transform(Xtrain)\n",
    "Xval_minMax = minMax_scaler.transform(Xval)\n",
    "Xtest_minMax = minMax_scaler.transform(Xtest)"
   ],
   "outputs": [],
   "execution_count": 363
  },
  {
   "metadata": {
    "ExecuteTime": {
     "end_time": "2024-05-06T11:53:00.795885Z",
     "start_time": "2024-05-06T11:53:00.790545Z"
    }
   },
   "cell_type": "code",
   "source": "print(Xtrain_minMax.shape)",
   "outputs": [
    {
     "name": "stdout",
     "output_type": "stream",
     "text": [
      "(31500, 1024)\n"
     ]
    }
   ],
   "execution_count": 364
  },
  {
   "metadata": {},
   "cell_type": "markdown",
   "source": [
    "Změníme rozměry pole s obrázkovými daty na standardní formát [N,C,H,W], kde\n",
    "* N - je počet obrázků (datových bodů)\n",
    "* C - je počet kanálů (u stupňu šedi pouze jeden, u RGB 3)\n",
    "* H - počet pixelů na výšku\n",
    "* W - počet pixelů na šířku"
   ]
  },
  {
   "metadata": {
    "ExecuteTime": {
     "end_time": "2024-05-06T11:53:00.808829Z",
     "start_time": "2024-05-06T11:53:00.800573Z"
    }
   },
   "cell_type": "code",
   "source": [
    "numpy_Xtrain = Xtrain.values\n",
    "numpy_ytrain = ytrain.values\n",
    "numpy_Xval = Xval.values\n",
    "numpy_yval = yval.values\n",
    "numpy_Xtest = Xtest.values\n",
    "numpy_ytest = ytest.values"
   ],
   "outputs": [],
   "execution_count": 365
  },
  {
   "metadata": {
    "ExecuteTime": {
     "end_time": "2024-05-06T11:53:00.818906Z",
     "start_time": "2024-05-06T11:53:00.814277Z"
    }
   },
   "cell_type": "code",
   "source": [
    "numpy_Xtrain = numpy_Xtrain.reshape(-1, 1, 32, 32)\n",
    "numpy_Xval = numpy_Xval.reshape(-1, 1, 32, 32)\n",
    "numpy_Xtest = numpy_Xtest.reshape(-1, 1, 32, 32)\n",
    "\n",
    "Xtrain_standard = Xtrain_standard.reshape(-1, 1, 32, 32)\n",
    "Xval_standard = Xval_standard.reshape(-1, 1, 32, 32)\n",
    "Xtest_standard = Xtest_standard.reshape(-1, 1, 32, 32)\n",
    "\n",
    "Xtrain_minMax = Xtrain_minMax.reshape(-1, 1, 32, 32)\n",
    "Xval_minMax = Xval_minMax.reshape(-1, 1, 32, 32)\n",
    "Xtest_minMax = Xtest_minMax.reshape(-1, 1, 32, 32)"
   ],
   "outputs": [],
   "execution_count": 366
  },
  {
   "metadata": {
    "ExecuteTime": {
     "end_time": "2024-05-06T11:53:00.826921Z",
     "start_time": "2024-05-06T11:53:00.820665Z"
    }
   },
   "cell_type": "code",
   "source": "print(numpy_Xtrain.shape, numpy_ytrain.shape)",
   "outputs": [
    {
     "name": "stdout",
     "output_type": "stream",
     "text": [
      "(31500, 1, 32, 32) (31500,)\n"
     ]
    }
   ],
   "execution_count": 367
  },
  {
   "metadata": {},
   "cell_type": "markdown",
   "source": "Nyní je třeba vše převést na datový typ `torch.Tensor`."
  },
  {
   "metadata": {
    "ExecuteTime": {
     "end_time": "2024-05-06T11:53:00.987185Z",
     "start_time": "2024-05-06T11:53:00.828811Z"
    }
   },
   "cell_type": "code",
   "source": [
    "Xtrain = torch.tensor(numpy_Xtrain, dtype=torch.float)\n",
    "ytrain = torch.tensor(numpy_ytrain, dtype=torch.long)\n",
    "Xval = torch.tensor(numpy_Xval, dtype=torch.float)\n",
    "yval = torch.tensor(numpy_yval, dtype=torch.long)\n",
    "Xtest = torch.tensor(numpy_Xtest, dtype=torch.float)\n",
    "ytest = torch.tensor(numpy_ytest, dtype=torch.long)"
   ],
   "outputs": [],
   "execution_count": 368
  },
  {
   "metadata": {
    "ExecuteTime": {
     "end_time": "2024-05-06T11:53:01.222197Z",
     "start_time": "2024-05-06T11:53:00.992063Z"
    }
   },
   "cell_type": "code",
   "source": [
    "Xtrain_standard = torch.tensor(Xtrain_standard, dtype=torch.float)\n",
    "Xval_standard = torch.tensor(Xval_standard, dtype=torch.float)\n",
    "Xtest_standard = torch.tensor(Xtest_standard, dtype=torch.float)"
   ],
   "outputs": [],
   "execution_count": 369
  },
  {
   "metadata": {
    "ExecuteTime": {
     "end_time": "2024-05-06T11:53:01.339268Z",
     "start_time": "2024-05-06T11:53:01.224223Z"
    }
   },
   "cell_type": "code",
   "source": [
    "Xtrain_minMax = torch.tensor(Xtrain_minMax, dtype=torch.float)\n",
    "Xval_minMax = torch.tensor(Xval_minMax, dtype=torch.float)\n",
    "Xtest_minMax = torch.tensor(Xtest_minMax, dtype=torch.float)"
   ],
   "outputs": [],
   "execution_count": 370
  },
  {
   "metadata": {},
   "cell_type": "markdown",
   "source": "Nyní použijeme `torch.utils.data.TensorDataset`."
  },
  {
   "metadata": {
    "ExecuteTime": {
     "end_time": "2024-05-06T11:53:01.347500Z",
     "start_time": "2024-05-06T11:53:01.341872Z"
    }
   },
   "cell_type": "code",
   "source": [
    "train_data = torch.utils.data.TensorDataset(Xtrain, ytrain)\n",
    "val_data = torch.utils.data.TensorDataset(Xval, yval)\n",
    "test_data = torch.utils.data.TensorDataset(Xtest, ytest)\n",
    "\n",
    "train_data_MinMax = torch.utils.data.TensorDataset(Xtrain_minMax, ytrain)\n",
    "val_data_MinMax = torch.utils.data.TensorDataset(Xval_minMax, yval)\n",
    "test_data_MinMax = torch.utils.data.TensorDataset(Xtest_minMax, ytest)\n",
    "\n",
    "train_data_standard = torch.utils.data.TensorDataset(Xtrain_standard, ytrain)\n",
    "val_data_standard = torch.utils.data.TensorDataset(Xval_standard, yval)\n",
    "test_data_standard = torch.utils.data.TensorDataset(Xtest_standard, ytest)"
   ],
   "outputs": [],
   "execution_count": 371
  },
  {
   "metadata": {
    "ExecuteTime": {
     "end_time": "2024-05-06T11:53:01.356070Z",
     "start_time": "2024-05-06T11:53:01.349577Z"
    }
   },
   "cell_type": "code",
   "source": [
    "print(\"The length of train data is:\",len(train_data))\n",
    "print(\"The length of val data is:\",len(val_data))\n",
    "print(\"The length of test data is:\",len(test_data))"
   ],
   "outputs": [
    {
     "name": "stdout",
     "output_type": "stream",
     "text": [
      "The length of train data is: 31500\n",
      "The length of val data is: 12600\n",
      "The length of test data is: 8400\n"
     ]
    }
   ],
   "execution_count": 372
  },
  {
   "metadata": {},
   "cell_type": "markdown",
   "source": "Připravíme dávkovač, který je schopný při trénování dodávat dávky. Použijeme k tomu `torch.utils.data.DataLoader`."
  },
  {
   "metadata": {
    "ExecuteTime": {
     "end_time": "2024-05-06T11:53:01.374695Z",
     "start_time": "2024-05-06T11:53:01.360010Z"
    }
   },
   "cell_type": "code",
   "source": [
    "train_loader = torch.utils.data.DataLoader(train_data, batch_size=32, shuffle=True)\n",
    "val_loader = torch.utils.data.DataLoader(val_data, batch_size=128, shuffle=False)\n",
    "test_loader = torch.utils.data.DataLoader(test_data, batch_size=128, shuffle=False)\n",
    "\n",
    "train_loader_standard = torch.utils.data.DataLoader(train_data_standard, batch_size=32, shuffle=True)\n",
    "val_loader_standard = torch.utils.data.DataLoader(val_data_standard, batch_size=128, shuffle=False)\n",
    "test_loader_standard = torch.utils.data.DataLoader(test_data_standard, batch_size=128, shuffle=False)\n",
    "\n",
    "train_loader_MinMax = torch.utils.data.DataLoader(train_data_MinMax, batch_size=32, shuffle=True)\n",
    "val_loader_MinMax = torch.utils.data.DataLoader(val_data_MinMax, batch_size=128, shuffle=False)\n",
    "test_loader_MinMax = torch.utils.data.DataLoader(test_data_MinMax, batch_size=128, shuffle=False)"
   ],
   "outputs": [],
   "execution_count": 373
  },
  {
   "metadata": {
    "ExecuteTime": {
     "end_time": "2024-05-06T11:53:01.391202Z",
     "start_time": "2024-05-06T11:53:01.384994Z"
    }
   },
   "cell_type": "code",
   "source": [
    "# code from tutorial\n",
    "def validationPerformance(loader, model, device=torch.device('cuda:0')):\n",
    "    \"\"\"\n",
    "    Calculate validation performance metrics (accuracy and average loss) for a PyTorch model using a specified data loader.\n",
    "\n",
    "    Args:\n",
    "    loader (torch.utils.data.DataLoader): DataLoader object providing batches of validation data.\n",
    "    model (torch.nn.Module): The PyTorch model to evaluate.\n",
    "    device (torch.device, optional): Device to use for model evaluation (default is 'cuda:0' if available).\n",
    "\n",
    "    Returns:\n",
    "    float: Validation accuracy.\n",
    "    float: Average validation loss.\n",
    "    \"\"\"\n",
    "    running_cum_vloss = 0.0\n",
    "    vcorrect = 0\n",
    "    for i, vdata in enumerate(loader):\n",
    "        vinputs, vlabels = vdata\n",
    "        vinputs, vlabels = vinputs.to(device), vlabels.to(device)\n",
    "        with torch.no_grad():\n",
    "            voutputs = model(vinputs)\n",
    "            vloss = loss_fn(voutputs, vlabels)\n",
    "        running_cum_vloss += vloss * vinputs.shape[0]\n",
    "        # count the correctly classified samples\n",
    "        vcorrect += (voutputs.argmax(1) == vlabels).float().sum()\n",
    "    # Get average loss and accuraccy\n",
    "    avg_vloss = running_cum_vloss / len(val_data)\n",
    "    vacc = vcorrect / len(val_data)\n",
    "    return vacc, avg_vloss"
   ],
   "outputs": [],
   "execution_count": 375
  },
  {
   "metadata": {
    "ExecuteTime": {
     "end_time": "2024-05-06T11:53:01.399806Z",
     "start_time": "2024-05-06T11:53:01.393261Z"
    }
   },
   "cell_type": "code",
   "source": [
    "# code from tutorial\n",
    "def bestModelPerformance(model, ii):\n",
    "    \"\"\"\n",
    "    Evaluate a PyTorch model on a validation dataset and collect predictions and labels.\n",
    "    \n",
    "    Args:\n",
    "    model (torch.nn.Module): The PyTorch model to evaluate.\n",
    "    ii (int): Index to track the position in the predictions and labels arrays.\n",
    "    \"\"\"\n",
    "    for vdata in tqdm(val_loader_standard):\n",
    "        vinputs, vlabels = vdata\n",
    "        vinputs, vlabels = vinputs.to(device), vlabels.to(device)\n",
    "        with torch.no_grad():\n",
    "            voutputs = model(vinputs)\n",
    "        val_predictions[ii:(ii + vinputs.shape[0])] = voutputs.argmax(1).cpu().numpy()\n",
    "        val_y[ii:(ii + vinputs.shape[0])] = vlabels.cpu().numpy()\n",
    "        ii += vinputs.shape[0]"
   ],
   "outputs": [],
   "execution_count": 376
  },
  {
   "metadata": {
    "ExecuteTime": {
     "end_time": "2024-05-06T11:55:45.910063Z",
     "start_time": "2024-05-06T11:55:45.897496Z"
    }
   },
   "cell_type": "code",
   "source": [
    "def showTrainingProcess():\n",
    "    \"\"\"\n",
    "    Display a plot of training and validation metrics (loss and accuracy) over epochs.\n",
    "    \"\"\"\n",
    "    plt.plot(epochs,train_loss, '.-', markersize = 10, label='Train loss')\n",
    "    plt.plot(epochs,validation_loss, '.-', markersize = 10, label='Validation loss')\n",
    "    plt.plot(epochs,validation_accuracy, '.-', color='purple',  markersize = 10, label='Validation accuracy')\n",
    "    plt.plot([epochs[np.argmax(validation_accuracy)]], [validation_accuracy[np.argmax(validation_accuracy)]],'x', color = 'green', markersize = 10, label='Best validation accuracy')\n",
    "    if early_stopped:\n",
    "        plt.plot([epochs[np.argmax(validation_accuracy) + K_EPOCHS]], [validation_accuracy[np.argmax(validation_accuracy) + K_EPOCHS]],'x', color = 'red', markersize = 10, label='Early stopping')\n",
    "    plt.legend()\n",
    "    plt.xlabel('Epochs')\n",
    "    plt.title('Training and Validation Metrics')\n",
    "    plt.show()"
   ],
   "outputs": [],
   "execution_count": 386
  },
  {
   "metadata": {
    "ExecuteTime": {
     "end_time": "2024-05-06T11:53:01.425197Z",
     "start_time": "2024-05-06T11:53:01.412371Z"
    }
   },
   "cell_type": "code",
   "source": [
    "# code from tutorial\n",
    "def train_one_epoch(model, loss_fn, optimizer, training_loader, lreg = False, l_alpha = 0.1):\n",
    "    \"\"\"\n",
    "    Train the model for one epoch using the specified loss function, optimizer, and data loader.\n",
    "\n",
    "    Args:\n",
    "        model (nn.Module): The neural network model to train.\n",
    "        loss_fn: The loss function used for training.\n",
    "        optimizer: The optimizer used for updating model parameters.\n",
    "        training_loader (DataLoader): The DataLoader object providing training data.\n",
    "        lreg (bool, optional): Whether to apply L1 regularization. Default is False.\n",
    "        l_alpha (float, optional): Regularization strength (lambda). Default is 0.1.\n",
    "\n",
    "    Returns:\n",
    "        float: Average loss for the epoch.\n",
    "    \"\"\"\n",
    "    running_cum_loss = 0.\n",
    "\n",
    "    # tqdm is used for nice progress visualisation\n",
    "    for data in tqdm(training_loader, total=len(training_loader)):\n",
    "        # Every data instance is an input + label pair\n",
    "        inputs, labels = data\n",
    "        inputs, labels = inputs.to(device), labels.to(device)\n",
    "\n",
    "        # Zero your gradients for every batch!\n",
    "        optimizer.zero_grad()\n",
    "\n",
    "        # Make predictions for this batch\n",
    "        outputs = model(inputs)\n",
    "\n",
    "        # Compute the loss and its gradients\n",
    "        loss = loss_fn(outputs, labels)\n",
    "\n",
    "        if lreg:\n",
    "            # compute the penalization\n",
    "            l_reg = torch.tensor(0., device = device)\n",
    "            l_reg += torch.linalg.vector_norm(model.fco.weight.flatten(),1)\n",
    "            loss = loss + l_alpha*l_reg\n",
    "\n",
    "        # Backpropagation\n",
    "        loss.backward()\n",
    "\n",
    "        # Adjust learning weights\n",
    "        optimizer.step()\n",
    "\n",
    "        # Gather data and report\n",
    "        last_mean_loss = loss.item()\n",
    "        running_cum_loss += last_mean_loss * inputs.shape[0]\n",
    "\n",
    "    # Return of the average over the whole training set\n",
    "    return running_cum_loss / len(train_data)"
   ],
   "outputs": [],
   "execution_count": 378
  },
  {
   "metadata": {},
   "cell_type": "markdown",
   "source": "Jako ztrátovou funkci použijeme kategorickou relativní entropii, která defaultně pro každou dávku vrátí průměrnou hodnotu ztrátové funkce na dané dávce."
  },
  {
   "metadata": {
    "ExecuteTime": {
     "end_time": "2024-05-06T11:53:01.432483Z",
     "start_time": "2024-05-06T11:53:01.427945Z"
    }
   },
   "cell_type": "code",
   "source": "loss_fn = nn.CrossEntropyLoss()",
   "outputs": [],
   "execution_count": 379
  },
  {
   "metadata": {},
   "cell_type": "markdown",
   "source": [
    "## Forward Neural Network\n",
    "\n",
    "Výhody tohoto modelu:\n",
    "1. **Jednoduchá architektura**: Model ForwardNN je vhodný pro jednoduché úlohy, kde není zapotřebí složitá architektura s více vrstvami. Pokud máte na základě oblečení provádět základní klasifikaci nebo predikci, ForwardNN poskytuje jednoduchý způsob, jak začít.\n",
    "2. **Rychlý experiment**: Pokud se snažíte rychle provést experiment s jednoduchým modelem a získat základní pochopení chování neuronové sítě v kontextu vaší úlohy s oblečením, ForwardNN umožňuje rychlé nasazení bez nutnosti složitějšího nastavování.\n",
    "3. **Snadná interpretace výsledků**: ForwardNN poskytuje transparentní interpretaci výsledků. Protože se jedná o jednoduchý model, je snazší porozumět jeho rozhodovacímu procesu a interpretovat výstupy. To může být užitečné zejména v rané fázi analýzy dat."
   ]
  },
  {
   "metadata": {},
   "cell_type": "markdown",
   "source": [
    "* Po provedených experimentech s různou hloubkou modelu a různým počtem neuronů v každé vrstvě se ukázalo, že pro daný úkol byl nejlepším modelem síť s 3 skrytými vrstvami obsahujícími postupně 64, 32 a 16 neuronů.\n",
    "* Skryté vrstvy s 64, 32 a 16 neurony poskytují síti dostatečnou kapacitu k naučení složitých vzorů ve vstupních datech. Větší počet neuronů umožňuje síti extrahovat více abstraktních a detailních rysů z dat, což může být klíčové pro úspěšné učení a generalizaci.\n",
    "* Tři skryté vrstvy poskytují vhodnou míru komplexity modelu pro zpracování daného úkolu (máme relativně malý dataset a snadný úkol). Přidání více vrstev a neuronů může vést k příliš složitému modelu s tendencí k přeučení (overfitting), zatímco málo vrstev nebo neuronů může být nedostatečné k efektivnímu učení."
   ]
  },
  {
   "metadata": {
    "ExecuteTime": {
     "end_time": "2024-05-06T14:56:03.878217Z",
     "start_time": "2024-05-06T14:56:03.859982Z"
    }
   },
   "cell_type": "code",
   "source": [
    "class ForwardNN(nn.Module):\n",
    "    def __init__(self):\n",
    "        super().__init__()\n",
    "        self.fc1 = nn.Linear(32*32, 64)\n",
    "        # self.fc2 = nn.Linear(128, 64)\n",
    "        self.fc2 = nn.Linear(64, 32)\n",
    "        self.fc3 = nn.Linear(32, 16)\n",
    "        self.fco = nn.Linear(16, 10)\n",
    "        \n",
    "    def forward(self, x):\n",
    "        x = x.flatten(start_dim = 1)\n",
    "        x = F.relu(self.fc1(x))\n",
    "        x = F.relu(self.fc2(x))\n",
    "        x = F.relu(self.fc3(x))\n",
    "        # x = F.relu(self.fc4(x))\n",
    "        x = self.fco(x)\n",
    "        return x\n",
    "    \n",
    "model = ForwardNN().to(device)"
   ],
   "outputs": [],
   "execution_count": 466
  },
  {
   "metadata": {},
   "cell_type": "markdown",
   "source": "Po několika experimentech se nejlepší metodou optimalizace pro daný úkol ukázal `Adam`."
  },
  {
   "metadata": {
    "ExecuteTime": {
     "end_time": "2024-05-06T11:53:01.457242Z",
     "start_time": "2024-05-06T11:53:01.451343Z"
    }
   },
   "cell_type": "code",
   "source": [
    "optimizer = torch.optim.Adam(model.parameters())\n",
    "# optimizer = torch.optim.SGD(model.parameters(), lr=0.001)"
   ],
   "outputs": [],
   "execution_count": 381
  },
  {
   "metadata": {},
   "cell_type": "markdown",
   "source": [
    "Nyní natrénujeme model s použitím techniky regularizace **\"Early stopping\"** pomocí následujícího kódu, který:\n",
    "1. Nastaví se počet epoch (**EPOCHS**), počet epoch bez zlepšení (**K_EPOCHS**), a další proměnné pro sledování průběhu trénování a validace.\n",
    "2. Pro každou epochu se provedou následující kroky:\n",
    "    * Nastaví se model do trénovacího režimu .\n",
    "    * Provede se jeden trénovací krok na trénovacích datech, který spočítá průměrnou ztrátu během trénování.\n",
    "    * Nastaví se model do režimu evaluace.\n",
    "    * Zavolá se funkce **validationPerformance**, která vyhodnotí model na validačních datech a vrátí přesnost a průměrnou ztrátu.\n",
    "3. Pro každou epochu se uloží statistiky jako epocha, ztráta při trénování, ztráta při validaci, a přesnost validace.\n",
    "4. Pokud přesnost validace v aktuální epochě překoná dosavadní nejlepší přesnost, uloží se stav modelu jako nejlepší, a aktualizuje se hodnota **best_val_acc**.\n",
    "5. Pokud počet epoch od posledního zlepšení překročí definovaný limit, učení se ukončí a nastaví se příznak **early_stopped** na **True**."
   ]
  },
  {
   "metadata": {
    "ExecuteTime": {
     "end_time": "2024-05-06T11:54:36.725048Z",
     "start_time": "2024-05-06T11:53:01.458774Z"
    }
   },
   "cell_type": "code",
   "source": [
    "# code from tutorial (partially)\n",
    "\n",
    "EPOCHS = 20\n",
    "\n",
    "# The number of epochs without improvement before deciding to stop the learning process.\n",
    "K_EPOCHS = 5\n",
    "early_stopped = False\n",
    "\n",
    "epochs = []\n",
    "train_loss = []\n",
    "validation_loss = []\n",
    "validation_accuracy = []\n",
    "best_val_acc = -1\n",
    "FNN_acc = None\n",
    "epochs_from_best = 0\n",
    "\n",
    "\n",
    "for epoch in range(EPOCHS):\n",
    "    print('EPOCH {}:'.format(epoch + 1))\n",
    "\n",
    "    # Indicate training phase\n",
    "    model.train(True)\n",
    "\n",
    "    # One training step\n",
    "    avg_loss = train_one_epoch(model, loss_fn, optimizer, train_loader_standard)\n",
    "\n",
    "    # Indicate evaluation phase\n",
    "    model.train(False)\n",
    "\n",
    "    # Validation performance\n",
    "    vacc, avg_vloss = validationPerformance(val_loader_standard, model)\n",
    "    \n",
    "    # Collect values\n",
    "    epochs.append(epoch + 1)\n",
    "    validation_accuracy.append(vacc)\n",
    "    validation_loss.append(avg_vloss)\n",
    "    train_loss.append(avg_loss)\n",
    "\n",
    "    print(f\"TRAIN loss: {avg_loss:.3f}, VALIDATION loss: {avg_vloss:.3f}, accuraccy: {vacc:.3f}\")\n",
    "\n",
    "    # Track the best validation accuracy, and save the model's state\n",
    "    if vacc > best_val_acc:\n",
    "        print(\"Saving best model\")\n",
    "        best_val_acc = vacc\n",
    "        FNN_acc = vacc\n",
    "        model_path = \"saves/best_model.pt\"\n",
    "        os.makedirs(os.path.dirname(model_path), exist_ok=True)\n",
    "        torch.save(model.state_dict(), model_path)\n",
    "        epochs_from_best = 0\n",
    "    else:\n",
    "        print(\"No improvement in this epoch.\")\n",
    "        epochs_from_best += 1\n",
    "\n",
    "    # EARLY STOPPING\n",
    "    if epochs_from_best >= K_EPOCHS:\n",
    "        print(\"Early stopping now\")\n",
    "        early_stopped = True\n",
    "        break"
   ],
   "outputs": [
    {
     "name": "stdout",
     "output_type": "stream",
     "text": [
      "EPOCH 1:\n"
     ]
    },
    {
     "name": "stderr",
     "output_type": "stream",
     "text": [
      "100%|██████████| 985/985 [00:05<00:00, 168.99it/s]\n"
     ]
    },
    {
     "name": "stdout",
     "output_type": "stream",
     "text": [
      "TRAIN loss: 0.791, VALIDATION loss: 0.618, accuraccy: 0.774\n",
      "Saving best model\n",
      "EPOCH 2:\n"
     ]
    },
    {
     "name": "stderr",
     "output_type": "stream",
     "text": [
      "100%|██████████| 985/985 [00:05<00:00, 181.11it/s]\n"
     ]
    },
    {
     "name": "stdout",
     "output_type": "stream",
     "text": [
      "TRAIN loss: 0.559, VALIDATION loss: 0.575, accuraccy: 0.789\n",
      "Saving best model\n",
      "EPOCH 3:\n"
     ]
    },
    {
     "name": "stderr",
     "output_type": "stream",
     "text": [
      "100%|██████████| 985/985 [00:04<00:00, 207.00it/s]\n"
     ]
    },
    {
     "name": "stdout",
     "output_type": "stream",
     "text": [
      "TRAIN loss: 0.500, VALIDATION loss: 0.531, accuraccy: 0.812\n",
      "Saving best model\n",
      "EPOCH 4:\n"
     ]
    },
    {
     "name": "stderr",
     "output_type": "stream",
     "text": [
      "100%|██████████| 985/985 [00:05<00:00, 190.39it/s]\n"
     ]
    },
    {
     "name": "stdout",
     "output_type": "stream",
     "text": [
      "TRAIN loss: 0.460, VALIDATION loss: 0.534, accuraccy: 0.816\n",
      "Saving best model\n",
      "EPOCH 5:\n"
     ]
    },
    {
     "name": "stderr",
     "output_type": "stream",
     "text": [
      "100%|██████████| 985/985 [00:04<00:00, 200.95it/s]\n"
     ]
    },
    {
     "name": "stdout",
     "output_type": "stream",
     "text": [
      "TRAIN loss: 0.433, VALIDATION loss: 0.527, accuraccy: 0.817\n",
      "Saving best model\n",
      "EPOCH 6:\n"
     ]
    },
    {
     "name": "stderr",
     "output_type": "stream",
     "text": [
      "100%|██████████| 985/985 [00:05<00:00, 192.18it/s]\n"
     ]
    },
    {
     "name": "stdout",
     "output_type": "stream",
     "text": [
      "TRAIN loss: 0.405, VALIDATION loss: 0.509, accuraccy: 0.823\n",
      "Saving best model\n",
      "EPOCH 7:\n"
     ]
    },
    {
     "name": "stderr",
     "output_type": "stream",
     "text": [
      "100%|██████████| 985/985 [00:05<00:00, 190.69it/s]\n"
     ]
    },
    {
     "name": "stdout",
     "output_type": "stream",
     "text": [
      "TRAIN loss: 0.384, VALIDATION loss: 0.504, accuraccy: 0.825\n",
      "Saving best model\n",
      "EPOCH 8:\n"
     ]
    },
    {
     "name": "stderr",
     "output_type": "stream",
     "text": [
      "100%|██████████| 985/985 [00:04<00:00, 205.55it/s]\n"
     ]
    },
    {
     "name": "stdout",
     "output_type": "stream",
     "text": [
      "TRAIN loss: 0.367, VALIDATION loss: 0.508, accuraccy: 0.826\n",
      "Saving best model\n",
      "EPOCH 9:\n"
     ]
    },
    {
     "name": "stderr",
     "output_type": "stream",
     "text": [
      "100%|██████████| 985/985 [00:04<00:00, 217.32it/s]\n"
     ]
    },
    {
     "name": "stdout",
     "output_type": "stream",
     "text": [
      "TRAIN loss: 0.351, VALIDATION loss: 0.520, accuraccy: 0.823\n",
      "No improvement in this epoch.\n",
      "EPOCH 10:\n"
     ]
    },
    {
     "name": "stderr",
     "output_type": "stream",
     "text": [
      "100%|██████████| 985/985 [00:04<00:00, 213.20it/s]\n"
     ]
    },
    {
     "name": "stdout",
     "output_type": "stream",
     "text": [
      "TRAIN loss: 0.340, VALIDATION loss: 0.517, accuraccy: 0.826\n",
      "No improvement in this epoch.\n",
      "EPOCH 11:\n"
     ]
    },
    {
     "name": "stderr",
     "output_type": "stream",
     "text": [
      "100%|██████████| 985/985 [00:05<00:00, 196.80it/s]\n"
     ]
    },
    {
     "name": "stdout",
     "output_type": "stream",
     "text": [
      "TRAIN loss: 0.330, VALIDATION loss: 0.515, accuraccy: 0.829\n",
      "Saving best model\n",
      "EPOCH 12:\n"
     ]
    },
    {
     "name": "stderr",
     "output_type": "stream",
     "text": [
      "100%|██████████| 985/985 [00:05<00:00, 196.60it/s]\n"
     ]
    },
    {
     "name": "stdout",
     "output_type": "stream",
     "text": [
      "TRAIN loss: 0.319, VALIDATION loss: 0.516, accuraccy: 0.832\n",
      "Saving best model\n",
      "EPOCH 13:\n"
     ]
    },
    {
     "name": "stderr",
     "output_type": "stream",
     "text": [
      "100%|██████████| 985/985 [00:04<00:00, 203.03it/s]\n"
     ]
    },
    {
     "name": "stdout",
     "output_type": "stream",
     "text": [
      "TRAIN loss: 0.307, VALIDATION loss: 0.522, accuraccy: 0.834\n",
      "Saving best model\n",
      "EPOCH 14:\n"
     ]
    },
    {
     "name": "stderr",
     "output_type": "stream",
     "text": [
      "100%|██████████| 985/985 [00:05<00:00, 195.92it/s]\n"
     ]
    },
    {
     "name": "stdout",
     "output_type": "stream",
     "text": [
      "TRAIN loss: 0.300, VALIDATION loss: 0.552, accuraccy: 0.826\n",
      "No improvement in this epoch.\n",
      "EPOCH 15:\n"
     ]
    },
    {
     "name": "stderr",
     "output_type": "stream",
     "text": [
      "100%|██████████| 985/985 [00:04<00:00, 200.03it/s]\n"
     ]
    },
    {
     "name": "stdout",
     "output_type": "stream",
     "text": [
      "TRAIN loss: 0.295, VALIDATION loss: 0.532, accuraccy: 0.831\n",
      "No improvement in this epoch.\n",
      "EPOCH 16:\n"
     ]
    },
    {
     "name": "stderr",
     "output_type": "stream",
     "text": [
      "100%|██████████| 985/985 [00:05<00:00, 191.18it/s]\n"
     ]
    },
    {
     "name": "stdout",
     "output_type": "stream",
     "text": [
      "TRAIN loss: 0.285, VALIDATION loss: 0.544, accuraccy: 0.832\n",
      "No improvement in this epoch.\n",
      "EPOCH 17:\n"
     ]
    },
    {
     "name": "stderr",
     "output_type": "stream",
     "text": [
      "100%|██████████| 985/985 [00:05<00:00, 195.07it/s]\n"
     ]
    },
    {
     "name": "stdout",
     "output_type": "stream",
     "text": [
      "TRAIN loss: 0.270, VALIDATION loss: 0.578, accuraccy: 0.828\n",
      "No improvement in this epoch.\n",
      "EPOCH 18:\n"
     ]
    },
    {
     "name": "stderr",
     "output_type": "stream",
     "text": [
      "100%|██████████| 985/985 [00:05<00:00, 195.35it/s]\n"
     ]
    },
    {
     "name": "stdout",
     "output_type": "stream",
     "text": [
      "TRAIN loss: 0.266, VALIDATION loss: 0.567, accuraccy: 0.827\n",
      "No improvement in this epoch.\n",
      "Early stopping now\n"
     ]
    }
   ],
   "execution_count": 382
  },
  {
   "metadata": {},
   "cell_type": "markdown",
   "source": "Načteme model s nejlepším výsledkem přesnosti na validační množině."
  },
  {
   "metadata": {
    "ExecuteTime": {
     "end_time": "2024-05-06T11:54:36.744044Z",
     "start_time": "2024-05-06T11:54:36.729505Z"
    }
   },
   "cell_type": "code",
   "source": [
    "model_path = \"saves/best_model.pt\"\n",
    "model.load_state_dict(torch.load(model_path))"
   ],
   "outputs": [
    {
     "data": {
      "text/plain": [
       "<All keys matched successfully>"
      ]
     },
     "execution_count": 383,
     "metadata": {},
     "output_type": "execute_result"
    }
   ],
   "execution_count": 383
  },
  {
   "metadata": {},
   "cell_type": "markdown",
   "source": "Vizualizujeme dynamiku změn různých metrik během trénování modelu."
  },
  {
   "metadata": {
    "ExecuteTime": {
     "end_time": "2024-05-06T11:54:36.757584Z",
     "start_time": "2024-05-06T11:54:36.746026Z"
    }
   },
   "cell_type": "code",
   "source": [
    "epochs = np.array(epochs)\n",
    "\n",
    "validation_loss_np = [tensor.cpu().numpy() for tensor in validation_loss]\n",
    "validation_loss = np.array(validation_loss_np)\n",
    "\n",
    "validation_accuracy_np = [tensor.cpu().numpy() for tensor in validation_accuracy]\n",
    "validation_accuracy = np.array(validation_accuracy_np)"
   ],
   "outputs": [],
   "execution_count": 384
  },
  {
   "metadata": {
    "ExecuteTime": {
     "end_time": "2024-05-06T11:55:53.856378Z",
     "start_time": "2024-05-06T11:55:53.619343Z"
    }
   },
   "cell_type": "code",
   "source": "showTrainingProcess()",
   "outputs": [
    {
     "data": {
      "text/plain": [
       "<Figure size 640x480 with 1 Axes>"
      ],
      "image/png": "[encoded data removed]"
     },
     "metadata": {},
     "output_type": "display_data"
    }
   ],
   "execution_count": 387
  },
  {
   "metadata": {},
   "cell_type": "markdown",
   "source": "Z výše uvedeného grafu lze odvodit, že nejlepší výsledek zaznamenal model po 13 epochách. Po 13. epoše zlepšení výsledku nebylo 5 epoch, takže trénink byl zastaven."
  },
  {
   "metadata": {},
   "cell_type": "markdown",
   "source": "Přepočítáme přesnost nejlepšího modelu na validační množině a vypíšeme **Confusion matrix**."
  },
  {
   "metadata": {
    "ExecuteTime": {
     "end_time": "2024-05-06T11:56:05.059477Z",
     "start_time": "2024-05-06T11:56:04.588879Z"
    }
   },
   "cell_type": "code",
   "source": [
    "val_predictions = np.zeros(len(val_data))\n",
    "val_y = np.zeros(len(val_data))\n",
    "ii = 0\n",
    "\n",
    "bestModelPerformance(model, ii)\n",
    "\n",
    "print(f\"Validation accuracy of the best model: {FNN_acc:.04f}\")\n",
    "\n",
    "# Confusion matrix\n",
    "cnf_matrix = confusion_matrix(val_y, val_predictions)\n",
    "print(cnf_matrix)"
   ],
   "outputs": [
    {
     "name": "stderr",
     "output_type": "stream",
     "text": [
      "100%|██████████| 99/99 [00:00<00:00, 222.83it/s]"
     ]
    },
    {
     "name": "stdout",
     "output_type": "stream",
     "text": [
      "Validation accuracy of the best model: 0.8344\n",
      "[[ 964    5   19   72    5    7  137    0   15    0]\n",
      " [   7 1228    8   29    6    2    6    0    2    0]\n",
      " [  17    2 1001   15   99    7  111    0    9    0]\n",
      " [  35   26   13 1088   51    2   42    0    8    2]\n",
      " [   4    4  198   52  880    1   99    0    6    1]\n",
      " [   0    0    1    0    0 1143    2   74   20   31]\n",
      " [ 214    2  156   37   79    3  738    1   20    2]\n",
      " [   0    0    0    0    0   65    0 1139    7   60]\n",
      " [  13    1   21    9    4   10   18    7 1165   11]\n",
      " [   0    0    0    0    0   37    0   55    3 1167]]\n"
     ]
    },
    {
     "name": "stderr",
     "output_type": "stream",
     "text": [
      "\n"
     ]
    }
   ],
   "execution_count": 388
  },
  {
   "metadata": {},
   "cell_type": "markdown",
   "source": [
    "1. Validation Accuracy (Validační přesnost):\n",
    "    * Celková přesnost ověřování modelu činí přibližně 83,44 %. To znamená, že z testovaných vzorků bylo správně klasifikováno 83,44 % podle svého skutečného oblečení.\n",
    "2. Confusion Matrix (Matice záměn):\n",
    "    * Matice záměn poskytuje podrobný pohled na to, jak si model vedl při klasifikaci jednotlivých tříd oblečení (0 až 9).\n",
    "    * Na diagonále matice jsou hodnoty, které představují počet správně klasifikovaných vzorků pro každou třídu oblečení.\n",
    "    * Mimo diagonálu jsou hodnoty, které reprezentují chyby klasifikace. Konkrétně sloupce představují předpovídané třídy a řádky skutečné třídy.\n",
    "    * Je například dobře vidět, že si model nejčastěji plete tričko/top a košili."
   ]
  },
  {
   "metadata": {
    "ExecuteTime": {
     "end_time": "2024-05-06T13:13:38.982388Z",
     "start_time": "2024-05-06T13:13:38.852911Z"
    }
   },
   "cell_type": "code",
   "source": [
    "plt.figure(figsize=(3, 3))\n",
    "\n",
    "plt.subplot(1, 2, 1)\n",
    "plt.imshow(images[0], cmap='gray')\n",
    "plt.title(\"0: Tričko/top\")\n",
    "plt.axis('off')\n",
    "\n",
    "plt.subplot(1, 2, 2)\n",
    "plt.imshow(images[6], cmap='gray')\n",
    "plt.title(str(\"6: Košile\"))\n",
    "plt.axis('off')\n",
    "\n",
    "plt.tight_layout()\n",
    "plt.show()"
   ],
   "outputs": [
    {
     "data": {
      "text/plain": [
       "<Figure size 300x300 with 2 Axes>"
      ],
      "image/png": "[encoded data removed]"
     },
     "metadata": {},
     "output_type": "display_data"
    }
   ],
   "execution_count": 450
  },
  {
   "metadata": {},
   "cell_type": "markdown",
   "source": [
    "### Dropout\n",
    "\n",
    "Nyní se pokusíme použít techniku regularizace **Dropout**. Hlavní podstatou této techniky je \"odpojení\" vstupů do vrstvy, na které je dropout aplikován, takže aby se zabránilo velké ztrátě potenciálně potřebných informací, stojí za to zvětšit síť. Zvětšení v našem případě je zvýšení hloubky modelu a zvýšení počtu neuronů."
   ]
  },
  {
   "metadata": {
    "ExecuteTime": {
     "end_time": "2024-05-06T14:55:55.554086Z",
     "start_time": "2024-05-06T14:55:55.538539Z"
    }
   },
   "cell_type": "code",
   "source": [
    "class DropoutForwardNN(nn.Module):\n",
    "    def __init__(self):\n",
    "        super().__init__()\n",
    "        self.fc1 = nn.Linear(32*32, 256)\n",
    "        # self.fc2 = nn.Linear(512, 256)\n",
    "        self.fc3 = nn.Linear(256, 128)\n",
    "        self.fc4 = nn.Linear(128, 64)\n",
    "        self.fc5 = nn.Linear(64, 32)\n",
    "        self.fc6 = nn.Linear(32, 16)\n",
    "        self.fco = nn.Linear(16, 10)\n",
    "        \n",
    "        self.dropout = nn.Dropout(p=0.15)\n",
    "        # self.dropout = nn.Dropout(p=0.25)\n",
    "        # self.dropout = nn.Dropout(p=0.5)\n",
    "\n",
    "    def forward(self, x):\n",
    "        x = x.flatten(start_dim=1)\n",
    "        x = F.relu(self.fc1(x))\n",
    "        x = self.dropout(x)\n",
    "        # x = F.relu(self.fc2(x))\n",
    "        # x = self.dropout(x) \n",
    "        x = F.relu(self.fc3(x))\n",
    "        x = self.dropout(x)  \n",
    "        x = F.relu(self.fc4(x))\n",
    "        # x = self.dropout(x)  \n",
    "        x = F.relu(self.fc5(x))\n",
    "        # x = self.dropout(x)\n",
    "        x = F.relu(self.fc6(x))\n",
    "        # x = self.dropout(x)\n",
    "        x = self.fco(x)\n",
    "        return x\n",
    "    \n",
    "model_dropout = DropoutForwardNN().to(device)"
   ],
   "outputs": [],
   "execution_count": 465
  },
  {
   "metadata": {
    "ExecuteTime": {
     "end_time": "2024-05-06T14:05:54.598048Z",
     "start_time": "2024-05-06T14:05:54.588863Z"
    }
   },
   "cell_type": "code",
   "source": "optimizer = torch.optim.Adam(model_dropout.parameters())",
   "outputs": [],
   "execution_count": 457
  },
  {
   "metadata": {},
   "cell_type": "markdown",
   "source": "Proces trénování ->"
  },
  {
   "metadata": {
    "ExecuteTime": {
     "end_time": "2024-05-06T14:07:31.162014Z",
     "start_time": "2024-05-06T14:05:54.800875Z"
    }
   },
   "cell_type": "code",
   "source": [
    "EPOCHS = 20\n",
    "\n",
    "# The number of epochs without improvement before deciding to stop the learning process.\n",
    "K_EPOCHS = 5\n",
    "early_stopped = False\n",
    "\n",
    "epochs = []\n",
    "train_loss = []\n",
    "validation_loss = []\n",
    "validation_accuracy = []\n",
    "best_val_acc = -1\n",
    "FNN_dropout_acc = None\n",
    "epochs_from_best = 0\n",
    "\n",
    "\n",
    "for epoch in range(EPOCHS):\n",
    "    print('EPOCH {}:'.format(epoch + 1))\n",
    "\n",
    "    # Indicate training phase\n",
    "    model_dropout.train(True)\n",
    "\n",
    "    # One training step\n",
    "    avg_loss = train_one_epoch(model_dropout, loss_fn, optimizer, train_loader_standard)\n",
    "\n",
    "    # Indicate evaluation phase\n",
    "    model_dropout.train(False)\n",
    "\n",
    "    # Validation performance\n",
    "    vacc, avg_vloss = validationPerformance(val_loader_standard, model_dropout)\n",
    "\n",
    "    # collect values\n",
    "    epochs.append(epoch + 1)\n",
    "    validation_accuracy.append(vacc)\n",
    "    validation_loss.append(avg_vloss)\n",
    "    train_loss.append(avg_loss)\n",
    "\n",
    "    print(f\"TRAIN loss: {avg_loss:.3f}, VALIDATION loss: {avg_vloss:.3f}, accuraccy: {vacc:.3f}\")\n",
    "\n",
    "    # Track the best validation accuracy, and save the model's state\n",
    "    if vacc > best_val_acc:\n",
    "        print(\"Saving best model\")\n",
    "        best_val_acc = vacc\n",
    "        FNN_dropout_acc = vacc\n",
    "        model_path = \"saves/best_model_dropout.pt\"\n",
    "        os.makedirs(os.path.dirname(model_path), exist_ok=True)\n",
    "        torch.save(model_dropout.state_dict(), model_path)\n",
    "        epochs_from_best = 0\n",
    "    else:\n",
    "        print(\"No improvement in this epoch.\")\n",
    "        epochs_from_best += 1\n",
    "\n",
    "    # EARLY STOPPING\n",
    "    if epochs_from_best >= K_EPOCHS:\n",
    "        print(\"Early stopping now\")\n",
    "        early_stopped = True\n",
    "        break"
   ],
   "outputs": [
    {
     "name": "stdout",
     "output_type": "stream",
     "text": [
      "EPOCH 1:\n"
     ]
    },
    {
     "name": "stderr",
     "output_type": "stream",
     "text": [
      "100%|██████████| 985/985 [00:05<00:00, 182.23it/s]\n"
     ]
    },
    {
     "name": "stdout",
     "output_type": "stream",
     "text": [
      "TRAIN loss: 0.845, VALIDATION loss: 0.651, accuraccy: 0.755\n",
      "Saving best model\n",
      "EPOCH 2:\n"
     ]
    },
    {
     "name": "stderr",
     "output_type": "stream",
     "text": [
      "100%|██████████| 985/985 [00:05<00:00, 179.88it/s]\n"
     ]
    },
    {
     "name": "stdout",
     "output_type": "stream",
     "text": [
      "TRAIN loss: 0.604, VALIDATION loss: 0.576, accuraccy: 0.793\n",
      "Saving best model\n",
      "EPOCH 3:\n"
     ]
    },
    {
     "name": "stderr",
     "output_type": "stream",
     "text": [
      "100%|██████████| 985/985 [00:05<00:00, 185.68it/s]\n"
     ]
    },
    {
     "name": "stdout",
     "output_type": "stream",
     "text": [
      "TRAIN loss: 0.547, VALIDATION loss: 0.558, accuraccy: 0.797\n",
      "Saving best model\n",
      "EPOCH 4:\n"
     ]
    },
    {
     "name": "stderr",
     "output_type": "stream",
     "text": [
      "100%|██████████| 985/985 [00:05<00:00, 190.41it/s]\n"
     ]
    },
    {
     "name": "stdout",
     "output_type": "stream",
     "text": [
      "TRAIN loss: 0.513, VALIDATION loss: 0.516, accuraccy: 0.813\n",
      "Saving best model\n",
      "EPOCH 5:\n"
     ]
    },
    {
     "name": "stderr",
     "output_type": "stream",
     "text": [
      "100%|██████████| 985/985 [00:05<00:00, 176.94it/s]\n"
     ]
    },
    {
     "name": "stdout",
     "output_type": "stream",
     "text": [
      "TRAIN loss: 0.481, VALIDATION loss: 0.526, accuraccy: 0.815\n",
      "Saving best model\n",
      "EPOCH 6:\n"
     ]
    },
    {
     "name": "stderr",
     "output_type": "stream",
     "text": [
      "100%|██████████| 985/985 [00:05<00:00, 186.19it/s]\n"
     ]
    },
    {
     "name": "stdout",
     "output_type": "stream",
     "text": [
      "TRAIN loss: 0.464, VALIDATION loss: 0.514, accuraccy: 0.817\n",
      "Saving best model\n",
      "EPOCH 7:\n"
     ]
    },
    {
     "name": "stderr",
     "output_type": "stream",
     "text": [
      "100%|██████████| 985/985 [00:05<00:00, 192.06it/s]\n"
     ]
    },
    {
     "name": "stdout",
     "output_type": "stream",
     "text": [
      "TRAIN loss: 0.441, VALIDATION loss: 0.498, accuraccy: 0.827\n",
      "Saving best model\n",
      "EPOCH 8:\n"
     ]
    },
    {
     "name": "stderr",
     "output_type": "stream",
     "text": [
      "100%|██████████| 985/985 [00:05<00:00, 180.08it/s]\n"
     ]
    },
    {
     "name": "stdout",
     "output_type": "stream",
     "text": [
      "TRAIN loss: 0.423, VALIDATION loss: 0.485, accuraccy: 0.829\n",
      "Saving best model\n",
      "EPOCH 9:\n"
     ]
    },
    {
     "name": "stderr",
     "output_type": "stream",
     "text": [
      "100%|██████████| 985/985 [00:05<00:00, 188.47it/s]\n"
     ]
    },
    {
     "name": "stdout",
     "output_type": "stream",
     "text": [
      "TRAIN loss: 0.414, VALIDATION loss: 0.480, accuraccy: 0.830\n",
      "Saving best model\n",
      "EPOCH 10:\n"
     ]
    },
    {
     "name": "stderr",
     "output_type": "stream",
     "text": [
      "100%|██████████| 985/985 [00:05<00:00, 182.28it/s]\n"
     ]
    },
    {
     "name": "stdout",
     "output_type": "stream",
     "text": [
      "TRAIN loss: 0.400, VALIDATION loss: 0.492, accuraccy: 0.828\n",
      "No improvement in this epoch.\n",
      "EPOCH 11:\n"
     ]
    },
    {
     "name": "stderr",
     "output_type": "stream",
     "text": [
      "100%|██████████| 985/985 [00:04<00:00, 227.43it/s]\n"
     ]
    },
    {
     "name": "stdout",
     "output_type": "stream",
     "text": [
      "TRAIN loss: 0.393, VALIDATION loss: 0.470, accuraccy: 0.833\n",
      "Saving best model\n",
      "EPOCH 12:\n"
     ]
    },
    {
     "name": "stderr",
     "output_type": "stream",
     "text": [
      "100%|██████████| 985/985 [00:03<00:00, 283.84it/s]\n"
     ]
    },
    {
     "name": "stdout",
     "output_type": "stream",
     "text": [
      "TRAIN loss: 0.378, VALIDATION loss: 0.485, accuraccy: 0.830\n",
      "No improvement in this epoch.\n",
      "EPOCH 13:\n"
     ]
    },
    {
     "name": "stderr",
     "output_type": "stream",
     "text": [
      "100%|██████████| 985/985 [00:03<00:00, 251.44it/s]\n"
     ]
    },
    {
     "name": "stdout",
     "output_type": "stream",
     "text": [
      "TRAIN loss: 0.372, VALIDATION loss: 0.474, accuraccy: 0.832\n",
      "No improvement in this epoch.\n",
      "EPOCH 14:\n"
     ]
    },
    {
     "name": "stderr",
     "output_type": "stream",
     "text": [
      "100%|██████████| 985/985 [00:03<00:00, 250.95it/s]\n"
     ]
    },
    {
     "name": "stdout",
     "output_type": "stream",
     "text": [
      "TRAIN loss: 0.359, VALIDATION loss: 0.469, accuraccy: 0.837\n",
      "Saving best model\n",
      "EPOCH 15:\n"
     ]
    },
    {
     "name": "stderr",
     "output_type": "stream",
     "text": [
      "100%|██████████| 985/985 [00:03<00:00, 256.21it/s]\n"
     ]
    },
    {
     "name": "stdout",
     "output_type": "stream",
     "text": [
      "TRAIN loss: 0.357, VALIDATION loss: 0.466, accuraccy: 0.840\n",
      "Saving best model\n",
      "EPOCH 16:\n"
     ]
    },
    {
     "name": "stderr",
     "output_type": "stream",
     "text": [
      "100%|██████████| 985/985 [00:03<00:00, 254.03it/s]\n"
     ]
    },
    {
     "name": "stdout",
     "output_type": "stream",
     "text": [
      "TRAIN loss: 0.346, VALIDATION loss: 0.479, accuraccy: 0.837\n",
      "No improvement in this epoch.\n",
      "EPOCH 17:\n"
     ]
    },
    {
     "name": "stderr",
     "output_type": "stream",
     "text": [
      "100%|██████████| 985/985 [00:03<00:00, 248.62it/s]\n"
     ]
    },
    {
     "name": "stdout",
     "output_type": "stream",
     "text": [
      "TRAIN loss: 0.336, VALIDATION loss: 0.470, accuraccy: 0.842\n",
      "Saving best model\n",
      "EPOCH 18:\n"
     ]
    },
    {
     "name": "stderr",
     "output_type": "stream",
     "text": [
      "100%|██████████| 985/985 [00:03<00:00, 261.66it/s]\n"
     ]
    },
    {
     "name": "stdout",
     "output_type": "stream",
     "text": [
      "TRAIN loss: 0.329, VALIDATION loss: 0.479, accuraccy: 0.840\n",
      "No improvement in this epoch.\n",
      "EPOCH 19:\n"
     ]
    },
    {
     "name": "stderr",
     "output_type": "stream",
     "text": [
      "100%|██████████| 985/985 [00:03<00:00, 260.08it/s]\n"
     ]
    },
    {
     "name": "stdout",
     "output_type": "stream",
     "text": [
      "TRAIN loss: 0.327, VALIDATION loss: 0.464, accuraccy: 0.847\n",
      "Saving best model\n",
      "EPOCH 20:\n"
     ]
    },
    {
     "name": "stderr",
     "output_type": "stream",
     "text": [
      "100%|██████████| 985/985 [00:03<00:00, 260.34it/s]\n"
     ]
    },
    {
     "name": "stdout",
     "output_type": "stream",
     "text": [
      "TRAIN loss: 0.322, VALIDATION loss: 0.494, accuraccy: 0.835\n",
      "No improvement in this epoch.\n"
     ]
    }
   ],
   "execution_count": 458
  },
  {
   "metadata": {},
   "cell_type": "markdown",
   "source": "Načteme model s nejlepším výsledkem přesnosti na validační množině."
  },
  {
   "metadata": {
    "ExecuteTime": {
     "end_time": "2024-05-06T14:07:31.179004Z",
     "start_time": "2024-05-06T14:07:31.164285Z"
    }
   },
   "cell_type": "code",
   "source": [
    "model_path = \"saves/best_model_dropout.pt\"\n",
    "model_dropout.load_state_dict(torch.load(model_path))"
   ],
   "outputs": [
    {
     "data": {
      "text/plain": [
       "<All keys matched successfully>"
      ]
     },
     "execution_count": 459,
     "metadata": {},
     "output_type": "execute_result"
    }
   ],
   "execution_count": 459
  },
  {
   "metadata": {},
   "cell_type": "markdown",
   "source": "Vizualizujeme dynamiku změn různých metrik během trénování modelu."
  },
  {
   "metadata": {
    "ExecuteTime": {
     "end_time": "2024-05-06T14:07:31.187892Z",
     "start_time": "2024-05-06T14:07:31.180541Z"
    }
   },
   "cell_type": "code",
   "source": [
    "epochs = np.array(epochs)\n",
    "\n",
    "validation_loss_np = [tensor.cpu().numpy() for tensor in validation_loss]\n",
    "validation_loss = np.array(validation_loss_np)\n",
    "\n",
    "validation_accuracy_np = [tensor.cpu().numpy() for tensor in validation_accuracy]\n",
    "validation_accuracy = np.array(validation_accuracy_np)"
   ],
   "outputs": [],
   "execution_count": 460
  },
  {
   "metadata": {
    "ExecuteTime": {
     "end_time": "2024-05-06T14:07:31.350211Z",
     "start_time": "2024-05-06T14:07:31.190077Z"
    }
   },
   "cell_type": "code",
   "source": "showTrainingProcess()",
   "outputs": [
    {
     "data": {
      "text/plain": [
       "<Figure size 640x480 with 1 Axes>"
      ],
      "image/png": "[encoded data removed]"
     },
     "metadata": {},
     "output_type": "display_data"
    }
   ],
   "execution_count": 461
  },
  {
   "metadata": {},
   "cell_type": "markdown",
   "source": "Z výše uvedeného grafu lze odvodit, že nejlepší výsledek zaznamenal model po 19 epochách."
  },
  {
   "metadata": {},
   "cell_type": "markdown",
   "source": "Přepočítáme přesnost nejlepšího modelu na validační množině a vypíšeme **Confusion matrix**."
  },
  {
   "metadata": {
    "ExecuteTime": {
     "end_time": "2024-05-06T14:08:17.337818Z",
     "start_time": "2024-05-06T14:08:16.899557Z"
    }
   },
   "cell_type": "code",
   "source": [
    "val_predictions = np.zeros(len(val_data))\n",
    "val_y = np.zeros(len(val_data))\n",
    "ii = 0\n",
    "\n",
    "bestModelPerformance(model_dropout, ii)\n",
    "\n",
    "print(f\"Validation accuracy of the best model: {FNN_dropout_acc:.04f}\")\n",
    "\n",
    "# Confusion matrix\n",
    "cnf_matrix = confusion_matrix(val_y, val_predictions)\n",
    "print(cnf_matrix)"
   ],
   "outputs": [
    {
     "name": "stderr",
     "output_type": "stream",
     "text": [
      "100%|██████████| 99/99 [00:00<00:00, 236.00it/s]"
     ]
    },
    {
     "name": "stdout",
     "output_type": "stream",
     "text": [
      "Validation accuracy of the best model: 0.8466\n",
      "[[ 935    7   17   79   11    2  160    0   13    0]\n",
      " [   3 1242    6   28    4    0    4    0    1    0]\n",
      " [  12    3  920   14  167    2  135    0    6    2]\n",
      " [  19   55   13 1078   52    2   44    0    4    0]\n",
      " [   2    8   79   32  998    0  119    0    7    0]\n",
      " [   0    0    3    0    0 1158    3   67    8   32]\n",
      " [ 162    5  100   46  108    0  811    0   18    2]\n",
      " [   0    0    0    0    0   54    0 1143    1   73]\n",
      " [   4    1    8   12    8    6   19    6 1190    5]\n",
      " [   0    0    1    0    0   29    0   37    3 1192]]\n"
     ]
    },
    {
     "name": "stderr",
     "output_type": "stream",
     "text": [
      "\n"
     ]
    }
   ],
   "execution_count": 463
  },
  {
   "metadata": {},
   "cell_type": "markdown",
   "source": "Přesnost 0.8466 po použití **Dropout** naznačuje zlepšení celkových vlastností modelu, jako je jeho schopnost generalizace na nová data a odolnost proti přeučení. Tato změna je spojena s vytvořením více regularizovaného a stabilního modelu."
  },
  {
   "metadata": {},
   "cell_type": "markdown",
   "source": [
    "### Dropout + L1 regularization\n",
    "\n",
    "Nyní se pokusíme použít i L1 resularizaci."
   ]
  },
  {
   "metadata": {},
   "cell_type": "markdown",
   "source": "Proces trénování se od těch předchozích liší jen tím, že při trénování jedné epochy připojíme blok kódu, kde je vlastně implementována regularizace."
  },
  {
   "metadata": {
    "ExecuteTime": {
     "end_time": "2024-05-06T14:00:06.937412Z",
     "start_time": "2024-05-06T13:57:56.098906Z"
    }
   },
   "cell_type": "code",
   "source": [
    "model_dropout = DropoutForwardNN().to(device)\n",
    "optimizer = torch.optim.Adam(model_dropout.parameters())\n",
    "\n",
    "EPOCHS = 20\n",
    "\n",
    "# The number of epochs without improvement before deciding to stop the learning process.\n",
    "K_EPOCHS = 5\n",
    "early_stopped = False\n",
    "\n",
    "epochs = []\n",
    "train_loss = []\n",
    "validation_loss = []\n",
    "validation_accuracy = []\n",
    "best_val_acc = -1\n",
    "FNN_dropout_lreg_acc = None\n",
    "epochs_from_best = 0\n",
    "\n",
    "\n",
    "for epoch in range(EPOCHS):\n",
    "    print('EPOCH {}:'.format(epoch + 1))\n",
    "\n",
    "    # Indicate training phase\n",
    "    model_dropout.train(True)\n",
    "\n",
    "    # One training step\n",
    "    avg_loss = train_one_epoch(model_dropout, loss_fn, optimizer, train_loader_standard, lreg=True, l_alpha=0.01)\n",
    "\n",
    "    # Indicate evaluation phase\n",
    "    model_dropout.train(False)\n",
    "\n",
    "    # Validation performance\n",
    "    vacc, avg_vloss = validationPerformance(val_loader_standard, model_dropout)\n",
    "\n",
    "    # collect values\n",
    "    epochs.append(epoch + 1)\n",
    "    validation_accuracy.append(vacc)\n",
    "    validation_loss.append(avg_vloss)\n",
    "    train_loss.append(avg_loss)\n",
    "\n",
    "    print(f\"TRAIN loss: {avg_loss:.3f}, VALIDATION loss: {avg_vloss:.3f}, accuraccy: {vacc:.3f}\")\n",
    "\n",
    "    # Track the best validation accuracy, and save the model's state\n",
    "    if vacc > best_val_acc:\n",
    "        print(\"Saving best model\")\n",
    "        best_val_acc = vacc\n",
    "        FNN_dropout_lreg_acc = vacc\n",
    "        model_path = \"saves/best_model_dropout_lreg.pt\"\n",
    "        os.makedirs(os.path.dirname(model_path), exist_ok=True)\n",
    "        torch.save(model_dropout.state_dict(), model_path)\n",
    "        epochs_from_best = 0\n",
    "    else:\n",
    "        print(\"No improvement in this epoch.\")\n",
    "        epochs_from_best += 1\n",
    "\n",
    "    # EARLY STOPPING\n",
    "    if epochs_from_best >= K_EPOCHS:\n",
    "        print(\"Early stopping now\")\n",
    "        early_stopped = True\n",
    "        break"
   ],
   "outputs": [
    {
     "name": "stdout",
     "output_type": "stream",
     "text": [
      "EPOCH 1:\n"
     ]
    },
    {
     "name": "stderr",
     "output_type": "stream",
     "text": [
      "100%|██████████| 985/985 [00:07<00:00, 136.40it/s]\n"
     ]
    },
    {
     "name": "stdout",
     "output_type": "stream",
     "text": [
      "TRAIN loss: 0.958, VALIDATION loss: 0.612, accuraccy: 0.775\n",
      "Saving best model\n",
      "EPOCH 2:\n"
     ]
    },
    {
     "name": "stderr",
     "output_type": "stream",
     "text": [
      "100%|██████████| 985/985 [00:06<00:00, 151.71it/s]\n"
     ]
    },
    {
     "name": "stdout",
     "output_type": "stream",
     "text": [
      "TRAIN loss: 0.673, VALIDATION loss: 0.601, accuraccy: 0.786\n",
      "Saving best model\n",
      "EPOCH 3:\n"
     ]
    },
    {
     "name": "stderr",
     "output_type": "stream",
     "text": [
      "100%|██████████| 985/985 [00:05<00:00, 169.06it/s]\n"
     ]
    },
    {
     "name": "stdout",
     "output_type": "stream",
     "text": [
      "TRAIN loss: 0.602, VALIDATION loss: 0.547, accuraccy: 0.803\n",
      "Saving best model\n",
      "EPOCH 4:\n"
     ]
    },
    {
     "name": "stderr",
     "output_type": "stream",
     "text": [
      "100%|██████████| 985/985 [00:06<00:00, 148.63it/s]\n"
     ]
    },
    {
     "name": "stdout",
     "output_type": "stream",
     "text": [
      "TRAIN loss: 0.557, VALIDATION loss: 0.528, accuraccy: 0.814\n",
      "Saving best model\n",
      "EPOCH 5:\n"
     ]
    },
    {
     "name": "stderr",
     "output_type": "stream",
     "text": [
      "100%|██████████| 985/985 [00:06<00:00, 149.70it/s]\n"
     ]
    },
    {
     "name": "stdout",
     "output_type": "stream",
     "text": [
      "TRAIN loss: 0.526, VALIDATION loss: 0.520, accuraccy: 0.812\n",
      "No improvement in this epoch.\n",
      "EPOCH 6:\n"
     ]
    },
    {
     "name": "stderr",
     "output_type": "stream",
     "text": [
      "100%|██████████| 985/985 [00:06<00:00, 150.54it/s]\n"
     ]
    },
    {
     "name": "stdout",
     "output_type": "stream",
     "text": [
      "TRAIN loss: 0.492, VALIDATION loss: 0.530, accuraccy: 0.807\n",
      "No improvement in this epoch.\n",
      "EPOCH 7:\n"
     ]
    },
    {
     "name": "stderr",
     "output_type": "stream",
     "text": [
      "100%|██████████| 985/985 [00:06<00:00, 149.06it/s]\n"
     ]
    },
    {
     "name": "stdout",
     "output_type": "stream",
     "text": [
      "TRAIN loss: 0.471, VALIDATION loss: 0.499, accuraccy: 0.823\n",
      "Saving best model\n",
      "EPOCH 8:\n"
     ]
    },
    {
     "name": "stderr",
     "output_type": "stream",
     "text": [
      "100%|██████████| 985/985 [00:06<00:00, 149.56it/s]\n"
     ]
    },
    {
     "name": "stdout",
     "output_type": "stream",
     "text": [
      "TRAIN loss: 0.453, VALIDATION loss: 0.474, accuraccy: 0.834\n",
      "Saving best model\n",
      "EPOCH 9:\n"
     ]
    },
    {
     "name": "stderr",
     "output_type": "stream",
     "text": [
      "100%|██████████| 985/985 [00:06<00:00, 153.44it/s]\n"
     ]
    },
    {
     "name": "stdout",
     "output_type": "stream",
     "text": [
      "TRAIN loss: 0.439, VALIDATION loss: 0.483, accuraccy: 0.828\n",
      "No improvement in this epoch.\n",
      "EPOCH 10:\n"
     ]
    },
    {
     "name": "stderr",
     "output_type": "stream",
     "text": [
      "100%|██████████| 985/985 [00:05<00:00, 177.62it/s]\n"
     ]
    },
    {
     "name": "stdout",
     "output_type": "stream",
     "text": [
      "TRAIN loss: 0.423, VALIDATION loss: 0.482, accuraccy: 0.835\n",
      "Saving best model\n",
      "EPOCH 11:\n"
     ]
    },
    {
     "name": "stderr",
     "output_type": "stream",
     "text": [
      "100%|██████████| 985/985 [00:05<00:00, 171.45it/s]\n"
     ]
    },
    {
     "name": "stdout",
     "output_type": "stream",
     "text": [
      "TRAIN loss: 0.411, VALIDATION loss: 0.500, accuraccy: 0.826\n",
      "No improvement in this epoch.\n",
      "EPOCH 12:\n"
     ]
    },
    {
     "name": "stderr",
     "output_type": "stream",
     "text": [
      "100%|██████████| 985/985 [00:06<00:00, 153.82it/s]\n"
     ]
    },
    {
     "name": "stdout",
     "output_type": "stream",
     "text": [
      "TRAIN loss: 0.399, VALIDATION loss: 0.469, accuraccy: 0.833\n",
      "No improvement in this epoch.\n",
      "EPOCH 13:\n"
     ]
    },
    {
     "name": "stderr",
     "output_type": "stream",
     "text": [
      "100%|██████████| 985/985 [00:06<00:00, 162.31it/s]\n"
     ]
    },
    {
     "name": "stdout",
     "output_type": "stream",
     "text": [
      "TRAIN loss: 0.391, VALIDATION loss: 0.488, accuraccy: 0.830\n",
      "No improvement in this epoch.\n",
      "EPOCH 14:\n"
     ]
    },
    {
     "name": "stderr",
     "output_type": "stream",
     "text": [
      "100%|██████████| 985/985 [00:06<00:00, 161.71it/s]\n"
     ]
    },
    {
     "name": "stdout",
     "output_type": "stream",
     "text": [
      "TRAIN loss: 0.376, VALIDATION loss: 0.487, accuraccy: 0.835\n",
      "Saving best model\n",
      "EPOCH 15:\n"
     ]
    },
    {
     "name": "stderr",
     "output_type": "stream",
     "text": [
      "100%|██████████| 985/985 [00:05<00:00, 164.45it/s]\n"
     ]
    },
    {
     "name": "stdout",
     "output_type": "stream",
     "text": [
      "TRAIN loss: 0.366, VALIDATION loss: 0.472, accuraccy: 0.837\n",
      "Saving best model\n",
      "EPOCH 16:\n"
     ]
    },
    {
     "name": "stderr",
     "output_type": "stream",
     "text": [
      "100%|██████████| 985/985 [00:06<00:00, 159.65it/s]\n"
     ]
    },
    {
     "name": "stdout",
     "output_type": "stream",
     "text": [
      "TRAIN loss: 0.361, VALIDATION loss: 0.471, accuraccy: 0.833\n",
      "No improvement in this epoch.\n",
      "EPOCH 17:\n"
     ]
    },
    {
     "name": "stderr",
     "output_type": "stream",
     "text": [
      "100%|██████████| 985/985 [00:06<00:00, 157.46it/s]\n"
     ]
    },
    {
     "name": "stdout",
     "output_type": "stream",
     "text": [
      "TRAIN loss: 0.353, VALIDATION loss: 0.484, accuraccy: 0.839\n",
      "Saving best model\n",
      "EPOCH 18:\n"
     ]
    },
    {
     "name": "stderr",
     "output_type": "stream",
     "text": [
      "100%|██████████| 985/985 [00:06<00:00, 161.25it/s]\n"
     ]
    },
    {
     "name": "stdout",
     "output_type": "stream",
     "text": [
      "TRAIN loss: 0.350, VALIDATION loss: 0.502, accuraccy: 0.830\n",
      "No improvement in this epoch.\n",
      "EPOCH 19:\n"
     ]
    },
    {
     "name": "stderr",
     "output_type": "stream",
     "text": [
      "100%|██████████| 985/985 [00:06<00:00, 160.01it/s]\n"
     ]
    },
    {
     "name": "stdout",
     "output_type": "stream",
     "text": [
      "TRAIN loss: 0.340, VALIDATION loss: 0.489, accuraccy: 0.840\n",
      "Saving best model\n",
      "EPOCH 20:\n"
     ]
    },
    {
     "name": "stderr",
     "output_type": "stream",
     "text": [
      "100%|██████████| 985/985 [00:06<00:00, 160.03it/s]\n"
     ]
    },
    {
     "name": "stdout",
     "output_type": "stream",
     "text": [
      "TRAIN loss: 0.333, VALIDATION loss: 0.484, accuraccy: 0.844\n",
      "Saving best model\n"
     ]
    }
   ],
   "execution_count": 451
  },
  {
   "metadata": {},
   "cell_type": "markdown",
   "source": "Načteme model s nejlepším výsledkem přesnosti na validační množině."
  },
  {
   "metadata": {
    "ExecuteTime": {
     "end_time": "2024-05-06T14:00:06.957799Z",
     "start_time": "2024-05-06T14:00:06.939982Z"
    }
   },
   "cell_type": "code",
   "source": [
    "model_path = \"saves/best_model_dropout_lreg.pt\"\n",
    "model_dropout.load_state_dict(torch.load(model_path))"
   ],
   "outputs": [
    {
     "data": {
      "text/plain": [
       "<All keys matched successfully>"
      ]
     },
     "execution_count": 452,
     "metadata": {},
     "output_type": "execute_result"
    }
   ],
   "execution_count": 452
  },
  {
   "metadata": {},
   "cell_type": "markdown",
   "source": "Vizualizujeme dynamiku změn různých metrik během trénování modelu."
  },
  {
   "metadata": {
    "ExecuteTime": {
     "end_time": "2024-05-06T14:00:06.969591Z",
     "start_time": "2024-05-06T14:00:06.959728Z"
    }
   },
   "cell_type": "code",
   "source": [
    "epochs = np.array(epochs)\n",
    "\n",
    "validation_loss_np = [tensor.cpu().numpy() for tensor in validation_loss]\n",
    "validation_loss = np.array(validation_loss_np)\n",
    "\n",
    "validation_accuracy_np = [tensor.cpu().numpy() for tensor in validation_accuracy]\n",
    "validation_accuracy = np.array(validation_accuracy_np)"
   ],
   "outputs": [],
   "execution_count": 453
  },
  {
   "metadata": {
    "ExecuteTime": {
     "end_time": "2024-05-06T14:00:07.186076Z",
     "start_time": "2024-05-06T14:00:06.971976Z"
    }
   },
   "cell_type": "code",
   "source": "showTrainingProcess()",
   "outputs": [
    {
     "data": {
      "text/plain": [
       "<Figure size 640x480 with 1 Axes>"
      ],
      "image/png": "[encoded data removed]"
     },
     "metadata": {},
     "output_type": "display_data"
    }
   ],
   "execution_count": 454
  },
  {
   "metadata": {},
   "cell_type": "markdown",
   "source": "Z výše uvedeného grafu lze odvodit, že nejlepší výsledek zaznamenal model po 20 epochách."
  },
  {
   "metadata": {},
   "cell_type": "markdown",
   "source": "Přepočítáme přesnost nejlepšího modelu na validační množině a vypíšeme **Confusion matrix**."
  },
  {
   "metadata": {
    "ExecuteTime": {
     "end_time": "2024-05-06T14:00:07.444369Z",
     "start_time": "2024-05-06T14:00:07.188124Z"
    }
   },
   "cell_type": "code",
   "source": [
    "val_predictions = np.zeros(len(val_data))\n",
    "val_y = np.zeros(len(val_data))\n",
    "ii = 0\n",
    "\n",
    "bestModelPerformance(model_dropout, ii)\n",
    "\n",
    "print(f\"Validation accuracy of the best model: {FNN_dropout_lreg_acc:.04f}\")\n",
    "\n",
    "# Confusion matrix\n",
    "cnf_matrix = confusion_matrix(val_y, val_predictions)\n",
    "print(cnf_matrix)"
   ],
   "outputs": [
    {
     "name": "stderr",
     "output_type": "stream",
     "text": [
      "100%|██████████| 99/99 [00:00<00:00, 428.81it/s]"
     ]
    },
    {
     "name": "stdout",
     "output_type": "stream",
     "text": [
      "Validation accuracy of the best model: 0.8441\n",
      "[[1060    3   13   47    9    6   64    0   21    1]\n",
      " [   7 1230    3   37    4    0    6    0    1    0]\n",
      " [  25    0  949   12  141    6  118    0    8    2]\n",
      " [  58   19    8 1055   75    1   37    1   12    1]\n",
      " [   3    3   96   32 1010    0   94    0    7    0]\n",
      " [   0    0    0    0    0 1116    2   89    9   55]\n",
      " [ 310    0  102   27  105    1  683    0   22    2]\n",
      " [   0    0    0    0    0   33    0 1158    3   77]\n",
      " [  10    0    4    5   11    7   13   14 1184   11]\n",
      " [   0    0    0    0    0   23    0   45    3 1191]]\n"
     ]
    },
    {
     "name": "stderr",
     "output_type": "stream",
     "text": [
      "\n"
     ]
    }
   ],
   "execution_count": 455
  },
  {
   "metadata": {},
   "cell_type": "markdown",
   "source": [
    "* Na základě výsledků lze dospět k závěru, že regularizace L1 příliš nepomohla zlepšit přesnost modelu a dokonce jej snížila. \n",
    "* Po experimentech s hodnotou hyperparametru `l_alpha` se ukázalo, že model se nejlépe osvědčil s nejmenší hodnotou parametru (0.01), což lze v zásadě přirovnat k tomu, že regularizace nebyla vůbec provedena.\n",
    "* Proto tuto regularizaci nebudeme provádět."
   ]
  },
  {
   "metadata": {},
   "cell_type": "markdown",
   "source": [
    "## Convolutional Network\n",
    "\n",
    "Výhody modelu:\n",
    "1. Obecně jsou konvoluční sítě velmi úspěšné modely pro obrázková data.\n",
    "2. Konvoluční sítě jsou schopny efektivně identifikovat lokální vzory a detaily v obrazech díky konvolučním vrstvám, které používají malé filtry k provádění konvoluce přes obrázky. Tato schopnost umožňuje síti rozpoznat různé prvky a vlastnosti v různých částech obrázků."
   ]
  },
  {
   "metadata": {},
   "cell_type": "markdown",
   "source": [
    "Po vyzkoušení různých možností hloubky a počtu neuronů v každé vrstvě jsme dospěli k modelu, který má následující architekturu:\n",
    "* Vstupní data jsou předána sérii **konvolučních vrstev** (conv1 a conv2), po každé vrstvě následuje **max pooling** vrstva (pool1 a pool2), která snižuje rozměry dat.\n",
    "* Následuje postupně **fully connected** vrstvy (fc0, fc1, fc2, fc3) s **ReLU** aktivací.\n",
    "* Výstupní vrstva (fco) poskytuje výstupní skóre pro jednotlivé třídy (10 tříd)."
   ]
  },
  {
   "metadata": {
    "ExecuteTime": {
     "end_time": "2024-05-06T14:55:38.784430Z",
     "start_time": "2024-05-06T14:55:38.748731Z"
    }
   },
   "cell_type": "code",
   "source": [
    "class ConvNN(nn.Module):\n",
    "    def __init__(self):\n",
    "        super().__init__()\n",
    "        self.conv1 = nn.Conv2d(in_channels = 1, out_channels = 64, kernel_size = 3)\n",
    "        self.pool1 = nn.MaxPool2d(kernel_size = 2, stride = 2)\n",
    "        self.conv2 = nn.Conv2d(in_channels=64, out_channels=32, kernel_size=3)\n",
    "        self.pool2 = nn.MaxPool2d(kernel_size = 2, stride = 2)\n",
    "        # self.conv3 = nn.Conv2d(in_channels=16, out_channels=8, kernel_size=3)\n",
    "        # self.pool3 = nn.MaxPool2d(kernel_size = 2, stride = 2)\n",
    "        self.fc0 = nn.Linear(1152, 512)\n",
    "        self.fc1 = nn.Linear(512, 128)\n",
    "        self.fc2 = nn.Linear(128, 32)\n",
    "        self.fc3 = nn.Linear(32, 16)\n",
    "        self.fco = nn.Linear(16, 10)\n",
    "\n",
    "    def forward(self, x):\n",
    "        x = F.relu(self.conv1(x))\n",
    "        x = self.pool1(x)\n",
    "        # print(x.shape)\n",
    "        x = F.relu(self.conv2(x))\n",
    "        x = self.pool2(x)\n",
    "        # print(x.shape)\n",
    "        # x = F.relu(self.conv3(x))\n",
    "        # x = self.pool3(x)\n",
    "        x = x.flatten(start_dim = 1)\n",
    "        # print(x.shape)\n",
    "        x = F.relu(self.fc0(x))\n",
    "        x = F.relu(self.fc1(x))\n",
    "        x = F.relu(self.fc2(x))\n",
    "        x = F.relu(self.fc3(x))\n",
    "        x = self.fco(x)\n",
    "        return x\n",
    "    \n",
    "model_conv = ConvNN().to(device)"
   ],
   "outputs": [],
   "execution_count": 464
  },
  {
   "metadata": {},
   "cell_type": "markdown",
   "source": "V případě tohoto modelu opět vítězí metoda optimalizace `Adam`."
  },
  {
   "metadata": {
    "ExecuteTime": {
     "end_time": "2024-05-06T12:00:50.118418Z",
     "start_time": "2024-05-06T12:00:50.112763Z"
    }
   },
   "cell_type": "code",
   "source": [
    "optimizer = torch.optim.Adam(model_conv.parameters())\n",
    "# optimizer = torch.optim.SGD(model.parameters(), lr=0.001)"
   ],
   "outputs": [],
   "execution_count": 402
  },
  {
   "metadata": {},
   "cell_type": "markdown",
   "source": "Proces trénování ->"
  },
  {
   "metadata": {
    "ExecuteTime": {
     "end_time": "2024-05-06T12:02:26.546466Z",
     "start_time": "2024-05-06T12:00:50.121330Z"
    }
   },
   "cell_type": "code",
   "source": [
    "EPOCHS = 20\n",
    "\n",
    "# The number of epochs without improvement before deciding to stop the learning process.\n",
    "K_EPOCHS = 5\n",
    "early_stopped = False\n",
    "\n",
    "epochs = []\n",
    "train_loss = []\n",
    "validation_loss = []\n",
    "validation_accuracy = []\n",
    "best_val_acc = -1\n",
    "CNN_acc = None\n",
    "epochs_from_best = 0\n",
    "\n",
    "\n",
    "for epoch in range(EPOCHS):\n",
    "    print('EPOCH {}:'.format(epoch + 1))\n",
    "\n",
    "    # Indicate training phase\n",
    "    model_conv.train(True)\n",
    "\n",
    "    # One training step\n",
    "    avg_loss = train_one_epoch(model_conv, loss_fn, optimizer, train_loader_standard)\n",
    "\n",
    "    # Indicate evaluation phase\n",
    "    model_conv.train(False)\n",
    "\n",
    "    # Validation performance\n",
    "    vacc, avg_vloss = validationPerformance(val_loader_standard, model_conv)\n",
    "\n",
    "    # collect values\n",
    "    epochs.append(epoch + 1)\n",
    "    validation_accuracy.append(vacc)\n",
    "    validation_loss.append(avg_vloss)\n",
    "    train_loss.append(avg_loss)\n",
    "\n",
    "    print(f\"TRAIN loss: {avg_loss:.3f}, VALIDATION loss: {avg_vloss:.3f}, accuraccy: {vacc:.3f}\")\n",
    "\n",
    "    # Track the best validation accuracy, and save the model's state\n",
    "    if vacc > best_val_acc:\n",
    "        print(\"Saving best model\")\n",
    "        best_val_acc = vacc\n",
    "        CNN_acc = vacc\n",
    "        model_path = \"saves/best_model_conv.pt\"\n",
    "        os.makedirs(os.path.dirname(model_path), exist_ok=True)\n",
    "        torch.save(model_conv.state_dict(), model_path)\n",
    "        epochs_from_best = 0\n",
    "    else:\n",
    "        print(\"No improvement in this epoch.\")\n",
    "        epochs_from_best += 1\n",
    "\n",
    "    # EARLY STOPPING\n",
    "    if epochs_from_best >= K_EPOCHS:\n",
    "        print(\"Early stopping now\")\n",
    "        early_stopped = True\n",
    "        break"
   ],
   "outputs": [
    {
     "name": "stdout",
     "output_type": "stream",
     "text": [
      "EPOCH 1:\n"
     ]
    },
    {
     "name": "stderr",
     "output_type": "stream",
     "text": [
      "100%|██████████| 985/985 [00:06<00:00, 143.10it/s]\n"
     ]
    },
    {
     "name": "stdout",
     "output_type": "stream",
     "text": [
      "TRAIN loss: 0.733, VALIDATION loss: 0.545, accuraccy: 0.802\n",
      "Saving best model\n",
      "EPOCH 2:\n"
     ]
    },
    {
     "name": "stderr",
     "output_type": "stream",
     "text": [
      "100%|██████████| 985/985 [00:07<00:00, 140.16it/s]\n"
     ]
    },
    {
     "name": "stdout",
     "output_type": "stream",
     "text": [
      "TRAIN loss: 0.459, VALIDATION loss: 0.440, accuraccy: 0.842\n",
      "Saving best model\n",
      "EPOCH 3:\n"
     ]
    },
    {
     "name": "stderr",
     "output_type": "stream",
     "text": [
      "100%|██████████| 985/985 [00:06<00:00, 144.63it/s]\n"
     ]
    },
    {
     "name": "stdout",
     "output_type": "stream",
     "text": [
      "TRAIN loss: 0.379, VALIDATION loss: 0.390, accuraccy: 0.860\n",
      "Saving best model\n",
      "EPOCH 4:\n"
     ]
    },
    {
     "name": "stderr",
     "output_type": "stream",
     "text": [
      "100%|██████████| 985/985 [00:07<00:00, 137.10it/s]\n"
     ]
    },
    {
     "name": "stdout",
     "output_type": "stream",
     "text": [
      "TRAIN loss: 0.329, VALIDATION loss: 0.398, accuraccy: 0.862\n",
      "Saving best model\n",
      "EPOCH 5:\n"
     ]
    },
    {
     "name": "stderr",
     "output_type": "stream",
     "text": [
      "100%|██████████| 985/985 [00:07<00:00, 130.49it/s]\n"
     ]
    },
    {
     "name": "stdout",
     "output_type": "stream",
     "text": [
      "TRAIN loss: 0.292, VALIDATION loss: 0.380, accuraccy: 0.873\n",
      "Saving best model\n",
      "EPOCH 6:\n"
     ]
    },
    {
     "name": "stderr",
     "output_type": "stream",
     "text": [
      "100%|██████████| 985/985 [00:07<00:00, 133.22it/s]\n"
     ]
    },
    {
     "name": "stdout",
     "output_type": "stream",
     "text": [
      "TRAIN loss: 0.262, VALIDATION loss: 0.369, accuraccy: 0.871\n",
      "No improvement in this epoch.\n",
      "EPOCH 7:\n"
     ]
    },
    {
     "name": "stderr",
     "output_type": "stream",
     "text": [
      "100%|██████████| 985/985 [00:07<00:00, 135.88it/s]\n"
     ]
    },
    {
     "name": "stdout",
     "output_type": "stream",
     "text": [
      "TRAIN loss: 0.230, VALIDATION loss: 0.380, accuraccy: 0.868\n",
      "No improvement in this epoch.\n",
      "EPOCH 8:\n"
     ]
    },
    {
     "name": "stderr",
     "output_type": "stream",
     "text": [
      "100%|██████████| 985/985 [00:06<00:00, 146.63it/s]\n"
     ]
    },
    {
     "name": "stdout",
     "output_type": "stream",
     "text": [
      "TRAIN loss: 0.207, VALIDATION loss: 0.357, accuraccy: 0.883\n",
      "Saving best model\n",
      "EPOCH 9:\n"
     ]
    },
    {
     "name": "stderr",
     "output_type": "stream",
     "text": [
      "100%|██████████| 985/985 [00:06<00:00, 145.67it/s]\n"
     ]
    },
    {
     "name": "stdout",
     "output_type": "stream",
     "text": [
      "TRAIN loss: 0.183, VALIDATION loss: 0.420, accuraccy: 0.875\n",
      "No improvement in this epoch.\n",
      "EPOCH 10:\n"
     ]
    },
    {
     "name": "stderr",
     "output_type": "stream",
     "text": [
      "100%|██████████| 985/985 [00:06<00:00, 141.72it/s]\n"
     ]
    },
    {
     "name": "stdout",
     "output_type": "stream",
     "text": [
      "TRAIN loss: 0.154, VALIDATION loss: 0.447, accuraccy: 0.873\n",
      "No improvement in this epoch.\n",
      "EPOCH 11:\n"
     ]
    },
    {
     "name": "stderr",
     "output_type": "stream",
     "text": [
      "100%|██████████| 985/985 [00:06<00:00, 143.37it/s]\n"
     ]
    },
    {
     "name": "stdout",
     "output_type": "stream",
     "text": [
      "TRAIN loss: 0.135, VALIDATION loss: 0.442, accuraccy: 0.875\n",
      "No improvement in this epoch.\n",
      "EPOCH 12:\n"
     ]
    },
    {
     "name": "stderr",
     "output_type": "stream",
     "text": [
      "100%|██████████| 985/985 [00:07<00:00, 134.12it/s]\n"
     ]
    },
    {
     "name": "stdout",
     "output_type": "stream",
     "text": [
      "TRAIN loss: 0.119, VALIDATION loss: 0.473, accuraccy: 0.871\n",
      "No improvement in this epoch.\n",
      "EPOCH 13:\n"
     ]
    },
    {
     "name": "stderr",
     "output_type": "stream",
     "text": [
      "100%|██████████| 985/985 [00:06<00:00, 142.14it/s]\n"
     ]
    },
    {
     "name": "stdout",
     "output_type": "stream",
     "text": [
      "TRAIN loss: 0.105, VALIDATION loss: 0.524, accuraccy: 0.876\n",
      "No improvement in this epoch.\n",
      "Early stopping now\n"
     ]
    }
   ],
   "execution_count": 403
  },
  {
   "metadata": {},
   "cell_type": "markdown",
   "source": "Načteme model s nejlepším výsledkem přesnosti na validační množině."
  },
  {
   "metadata": {
    "ExecuteTime": {
     "end_time": "2024-05-06T12:02:26.566445Z",
     "start_time": "2024-05-06T12:02:26.548210Z"
    }
   },
   "cell_type": "code",
   "source": [
    "model_path = \"saves/best_model_conv.pt\"\n",
    "model_conv.load_state_dict(torch.load(model_path))"
   ],
   "outputs": [
    {
     "data": {
      "text/plain": [
       "<All keys matched successfully>"
      ]
     },
     "execution_count": 404,
     "metadata": {},
     "output_type": "execute_result"
    }
   ],
   "execution_count": 404
  },
  {
   "metadata": {},
   "cell_type": "markdown",
   "source": "Vizualizujeme dynamiku změn různých metrik během trénování modelu."
  },
  {
   "metadata": {
    "ExecuteTime": {
     "end_time": "2024-05-06T12:02:26.578522Z",
     "start_time": "2024-05-06T12:02:26.571089Z"
    }
   },
   "cell_type": "code",
   "source": [
    "epochs = np.array(epochs)\n",
    "\n",
    "validation_loss_np = [tensor.cpu().numpy() for tensor in validation_loss]\n",
    "validation_loss = np.array(validation_loss_np)\n",
    "\n",
    "validation_accuracy_np = [tensor.cpu().numpy() for tensor in validation_accuracy]\n",
    "validation_accuracy = np.array(validation_accuracy_np)"
   ],
   "outputs": [],
   "execution_count": 405
  },
  {
   "metadata": {
    "ExecuteTime": {
     "end_time": "2024-05-06T12:02:26.824763Z",
     "start_time": "2024-05-06T12:02:26.579998Z"
    }
   },
   "cell_type": "code",
   "source": "showTrainingProcess()",
   "outputs": [
    {
     "data": {
      "text/plain": [
       "<Figure size 640x480 with 1 Axes>"
      ],
      "image/png": "[encoded data removed]"
     },
     "metadata": {},
     "output_type": "display_data"
    }
   ],
   "execution_count": 406
  },
  {
   "metadata": {},
   "cell_type": "markdown",
   "source": "Z výše uvedeného grafu lze odvodit, že nejlepší výsledek zaznamenal model po 8 epochách. Po 8. epoše zlepšení výsledku nebylo 5 epoch, takže trénink byl zastaven."
  },
  {
   "metadata": {},
   "cell_type": "markdown",
   "source": "Přepočítáme přesnost nejlepšího modelu na validační množině a vypíšeme **Confusion matrix**."
  },
  {
   "metadata": {
    "ExecuteTime": {
     "end_time": "2024-05-06T12:02:27.315626Z",
     "start_time": "2024-05-06T12:02:26.827617Z"
    }
   },
   "cell_type": "code",
   "source": [
    "val_predictions = np.zeros(len(val_data))\n",
    "val_y = np.zeros(len(val_data))\n",
    "ii = 0\n",
    "\n",
    "bestModelPerformance(model_conv, ii)\n",
    "\n",
    "print(f\"Validation accuracy of the best model: {CNN_acc:.04f}\")\n",
    "\n",
    "# Confusion matrix\n",
    "cnf_matrix = confusion_matrix(val_y, val_predictions)\n",
    "print(cnf_matrix)"
   ],
   "outputs": [
    {
     "name": "stderr",
     "output_type": "stream",
     "text": [
      "100%|██████████| 99/99 [00:00<00:00, 215.57it/s]"
     ]
    },
    {
     "name": "stdout",
     "output_type": "stream",
     "text": [
      "Validation accuracy of the best model: 0.8832\n",
      "[[1030    1   20   54    3    3   99    0   14    0]\n",
      " [   6 1247    3   27    3    0    2    0    0    0]\n",
      " [  27    1 1042   16  104    2   64    0    5    0]\n",
      " [  31    5   10 1158   29    0   28    0    6    0]\n",
      " [   2    1   80   51 1041    0   68    0    2    0]\n",
      " [   0    0    0    0    2 1191    1   45    3   29]\n",
      " [ 188    1   97   48  121    0  780    0   17    0]\n",
      " [   0    0    0    0    0   14    0 1211    0   46]\n",
      " [   6    2    6   12    5    2    4    2 1220    0]\n",
      " [   0    0    0    2    0    6    0   43    3 1208]]\n"
     ]
    },
    {
     "name": "stderr",
     "output_type": "stream",
     "text": [
      "\n"
     ]
    }
   ],
   "execution_count": 407
  },
  {
   "metadata": {},
   "cell_type": "markdown",
   "source": [
    "* Vysoká validační přesnost konvoluční sítě (0.8832) naznačuje, že tento model překonává výsledky sítě typu ForwardNN, která byla dříve testována a dosahovala nižší přesnosti. \n",
    "* Konvoluční síť je schopna lépe extrahovat užitečné příznaky z obrázků, což vede k vylepšené schopnosti rozpoznávání a klasifikace oblečení ve srovnání s jednoduššími sítěmi jako ForwardNN."
   ]
  },
  {
   "metadata": {},
   "cell_type": "markdown",
   "source": [
    "### Dropout\n",
    "\n",
    "Nyní se pokusíme integrovat do modelu regularizační techniku **Dropout**. Po vyzkoušení několika variant se ukázalo, že model s nejvyšší validační přesností je ten, který:\n",
    "\n",
    "* Používá metodu `nn.Dropout2d` pro výstupy konvolučních vrstev.\n",
    "* Pro výstupy první plně propojené vrstvy, která má nejvíce \"out_features\", používá obecnou verzi dropoutu (`nn.Dropout`)."
   ]
  },
  {
   "metadata": {
    "ExecuteTime": {
     "end_time": "2024-05-06T17:09:05.803943Z",
     "start_time": "2024-05-06T17:09:05.785091Z"
    }
   },
   "cell_type": "code",
   "source": [
    "class DropoutConvNN(nn.Module):\n",
    "    def __init__(self):\n",
    "        super().__init__()\n",
    "        self.conv1 = nn.Conv2d(in_channels = 1, out_channels = 64, kernel_size = 3)\n",
    "        self.pool1 = nn.MaxPool2d(kernel_size = 2, stride = 2)\n",
    "        self.conv2 = nn.Conv2d(in_channels=64, out_channels=32, kernel_size=3)\n",
    "        self.pool2 = nn.MaxPool2d(kernel_size = 2, stride = 2)\n",
    "        self.fc0 = nn.Linear(1152, 512)\n",
    "        self.fc1 = nn.Linear(512, 128)\n",
    "        self.fc2 = nn.Linear(128, 32)\n",
    "        self.fc3 = nn.Linear(32, 16)\n",
    "        self.fco = nn.Linear(16, 10)\n",
    "        \n",
    "        self.conv_drop = nn.Dropout2d(p=0.2)\n",
    "        self.dropout = nn.Dropout(p=0.2)\n",
    "\n",
    "    def forward(self, x):\n",
    "        x = F.relu(self.conv1(x))\n",
    "        x = self.pool1(x)\n",
    "        x = self.conv_drop(x)\n",
    "        x = F.relu(self.conv2(x))\n",
    "        x = self.pool2(x)\n",
    "        x = self.conv_drop(x)\n",
    "        x = x.flatten(start_dim = 1)\n",
    "        x = F.relu(self.fc0(x))\n",
    "        x = self.dropout(x)\n",
    "        x = F.relu(self.fc1(x))\n",
    "        # x = self.dropout(x)\n",
    "        x = F.relu(self.fc2(x))\n",
    "        # x = self.dropout(x)\n",
    "        x = F.relu(self.fc3(x))\n",
    "        x = self.fco(x)\n",
    "        return x\n",
    "    \n",
    "model_conv_dropout = DropoutConvNN().to(device)"
   ],
   "outputs": [],
   "execution_count": 570
  },
  {
   "metadata": {
    "ExecuteTime": {
     "end_time": "2024-05-06T17:09:06.557357Z",
     "start_time": "2024-05-06T17:09:06.552168Z"
    }
   },
   "cell_type": "code",
   "source": "optimizer = torch.optim.Adam(model_conv_dropout.parameters())",
   "outputs": [],
   "execution_count": 571
  },
  {
   "metadata": {},
   "cell_type": "markdown",
   "source": "Proces trénování ->"
  },
  {
   "metadata": {
    "ExecuteTime": {
     "end_time": "2024-05-06T17:10:43.754914Z",
     "start_time": "2024-05-06T17:09:06.977088Z"
    }
   },
   "cell_type": "code",
   "source": [
    "EPOCHS = 20\n",
    "\n",
    "# The number of epochs without improvement before deciding to stop the learning process.\n",
    "K_EPOCHS = 5\n",
    "early_stopped = False\n",
    "\n",
    "epochs = []\n",
    "train_loss = []\n",
    "validation_loss = []\n",
    "validation_accuracy = []\n",
    "best_val_acc = -1\n",
    "CNN_dropout_acc = None\n",
    "epochs_from_best = 0\n",
    "\n",
    "\n",
    "for epoch in range(EPOCHS):\n",
    "    print('EPOCH {}:'.format(epoch + 1))\n",
    "\n",
    "    # Indicate training phase\n",
    "    model_conv_dropout.train(True)\n",
    "\n",
    "    # One training step\n",
    "    avg_loss = train_one_epoch(model_conv_dropout, loss_fn, optimizer, train_loader_standard)\n",
    "\n",
    "    # Indicate evaluation phase\n",
    "    model_conv_dropout.train(False)\n",
    "\n",
    "    # Validation performance\n",
    "    vacc, avg_vloss = validationPerformance(val_loader_standard, model_conv_dropout)\n",
    "\n",
    "    # collect values\n",
    "    epochs.append(epoch + 1)\n",
    "    validation_accuracy.append(vacc)\n",
    "    validation_loss.append(avg_vloss)\n",
    "    train_loss.append(avg_loss)\n",
    "\n",
    "    print(f\"TRAIN loss: {avg_loss:.3f}, VALIDATION loss: {avg_vloss:.3f}, accuraccy: {vacc:.3f}\")\n",
    "\n",
    "    # Track the best validation accuracy, and save the model's state\n",
    "    if vacc > best_val_acc:\n",
    "        print(\"Saving best model\")\n",
    "        best_val_acc = vacc\n",
    "        CNN_dropout_acc = vacc\n",
    "        model_path = \"saves/best_model_conv_dropout.pt\"\n",
    "        os.makedirs(os.path.dirname(model_path), exist_ok=True)\n",
    "        torch.save(model_conv_dropout.state_dict(), model_path)\n",
    "        epochs_from_best = 0\n",
    "    else:\n",
    "        print(\"No improvement in this epoch.\")\n",
    "        epochs_from_best += 1\n",
    "\n",
    "    # EARLY STOPPING\n",
    "    if epochs_from_best >= K_EPOCHS:\n",
    "        print(\"Early stopping now\")\n",
    "        early_stopped = True\n",
    "        break"
   ],
   "outputs": [
    {
     "name": "stdout",
     "output_type": "stream",
     "text": [
      "EPOCH 1:\n"
     ]
    },
    {
     "name": "stderr",
     "output_type": "stream",
     "text": [
      "100%|██████████| 985/985 [00:04<00:00, 202.19it/s]\n"
     ]
    },
    {
     "name": "stdout",
     "output_type": "stream",
     "text": [
      "TRAIN loss: 0.798, VALIDATION loss: 0.562, accuraccy: 0.785\n",
      "Saving best model\n",
      "EPOCH 2:\n"
     ]
    },
    {
     "name": "stderr",
     "output_type": "stream",
     "text": [
      "100%|██████████| 985/985 [00:04<00:00, 229.42it/s]\n"
     ]
    },
    {
     "name": "stdout",
     "output_type": "stream",
     "text": [
      "TRAIN loss: 0.524, VALIDATION loss: 0.462, accuraccy: 0.829\n",
      "Saving best model\n",
      "EPOCH 3:\n"
     ]
    },
    {
     "name": "stderr",
     "output_type": "stream",
     "text": [
      "100%|██████████| 985/985 [00:04<00:00, 224.72it/s]\n"
     ]
    },
    {
     "name": "stdout",
     "output_type": "stream",
     "text": [
      "TRAIN loss: 0.447, VALIDATION loss: 0.421, accuraccy: 0.850\n",
      "Saving best model\n",
      "EPOCH 4:\n"
     ]
    },
    {
     "name": "stderr",
     "output_type": "stream",
     "text": [
      "100%|██████████| 985/985 [00:05<00:00, 188.45it/s]\n"
     ]
    },
    {
     "name": "stdout",
     "output_type": "stream",
     "text": [
      "TRAIN loss: 0.404, VALIDATION loss: 0.396, accuraccy: 0.859\n",
      "Saving best model\n",
      "EPOCH 5:\n"
     ]
    },
    {
     "name": "stderr",
     "output_type": "stream",
     "text": [
      "100%|██████████| 985/985 [00:05<00:00, 187.92it/s]\n"
     ]
    },
    {
     "name": "stdout",
     "output_type": "stream",
     "text": [
      "TRAIN loss: 0.369, VALIDATION loss: 0.374, accuraccy: 0.867\n",
      "Saving best model\n",
      "EPOCH 6:\n"
     ]
    },
    {
     "name": "stderr",
     "output_type": "stream",
     "text": [
      "100%|██████████| 985/985 [00:04<00:00, 237.37it/s]\n"
     ]
    },
    {
     "name": "stdout",
     "output_type": "stream",
     "text": [
      "TRAIN loss: 0.347, VALIDATION loss: 0.357, accuraccy: 0.875\n",
      "Saving best model\n",
      "EPOCH 7:\n"
     ]
    },
    {
     "name": "stderr",
     "output_type": "stream",
     "text": [
      "100%|██████████| 985/985 [00:04<00:00, 245.36it/s]\n"
     ]
    },
    {
     "name": "stdout",
     "output_type": "stream",
     "text": [
      "TRAIN loss: 0.322, VALIDATION loss: 0.344, accuraccy: 0.876\n",
      "Saving best model\n",
      "EPOCH 8:\n"
     ]
    },
    {
     "name": "stderr",
     "output_type": "stream",
     "text": [
      "100%|██████████| 985/985 [00:04<00:00, 228.48it/s]\n"
     ]
    },
    {
     "name": "stdout",
     "output_type": "stream",
     "text": [
      "TRAIN loss: 0.305, VALIDATION loss: 0.343, accuraccy: 0.880\n",
      "Saving best model\n",
      "EPOCH 9:\n"
     ]
    },
    {
     "name": "stderr",
     "output_type": "stream",
     "text": [
      "100%|██████████| 985/985 [00:04<00:00, 232.22it/s]\n"
     ]
    },
    {
     "name": "stdout",
     "output_type": "stream",
     "text": [
      "TRAIN loss: 0.290, VALIDATION loss: 0.344, accuraccy: 0.876\n",
      "No improvement in this epoch.\n",
      "EPOCH 10:\n"
     ]
    },
    {
     "name": "stderr",
     "output_type": "stream",
     "text": [
      "100%|██████████| 985/985 [00:05<00:00, 186.49it/s]\n"
     ]
    },
    {
     "name": "stdout",
     "output_type": "stream",
     "text": [
      "TRAIN loss: 0.275, VALIDATION loss: 0.352, accuraccy: 0.877\n",
      "No improvement in this epoch.\n",
      "EPOCH 11:\n"
     ]
    },
    {
     "name": "stderr",
     "output_type": "stream",
     "text": [
      "100%|██████████| 985/985 [00:04<00:00, 213.24it/s]\n"
     ]
    },
    {
     "name": "stdout",
     "output_type": "stream",
     "text": [
      "TRAIN loss: 0.263, VALIDATION loss: 0.368, accuraccy: 0.873\n",
      "No improvement in this epoch.\n",
      "EPOCH 12:\n"
     ]
    },
    {
     "name": "stderr",
     "output_type": "stream",
     "text": [
      "100%|██████████| 985/985 [00:04<00:00, 222.43it/s]\n"
     ]
    },
    {
     "name": "stdout",
     "output_type": "stream",
     "text": [
      "TRAIN loss: 0.254, VALIDATION loss: 0.339, accuraccy: 0.884\n",
      "Saving best model\n",
      "EPOCH 13:\n"
     ]
    },
    {
     "name": "stderr",
     "output_type": "stream",
     "text": [
      "100%|██████████| 985/985 [00:04<00:00, 235.19it/s]\n"
     ]
    },
    {
     "name": "stdout",
     "output_type": "stream",
     "text": [
      "TRAIN loss: 0.239, VALIDATION loss: 0.341, accuraccy: 0.882\n",
      "No improvement in this epoch.\n",
      "EPOCH 14:\n"
     ]
    },
    {
     "name": "stderr",
     "output_type": "stream",
     "text": [
      "100%|██████████| 985/985 [00:04<00:00, 227.67it/s]\n"
     ]
    },
    {
     "name": "stdout",
     "output_type": "stream",
     "text": [
      "TRAIN loss: 0.226, VALIDATION loss: 0.352, accuraccy: 0.883\n",
      "No improvement in this epoch.\n",
      "EPOCH 15:\n"
     ]
    },
    {
     "name": "stderr",
     "output_type": "stream",
     "text": [
      "100%|██████████| 985/985 [00:04<00:00, 201.58it/s]\n"
     ]
    },
    {
     "name": "stdout",
     "output_type": "stream",
     "text": [
      "TRAIN loss: 0.224, VALIDATION loss: 0.339, accuraccy: 0.887\n",
      "Saving best model\n",
      "EPOCH 16:\n"
     ]
    },
    {
     "name": "stderr",
     "output_type": "stream",
     "text": [
      "100%|██████████| 985/985 [00:06<00:00, 161.64it/s]\n"
     ]
    },
    {
     "name": "stdout",
     "output_type": "stream",
     "text": [
      "TRAIN loss: 0.209, VALIDATION loss: 0.347, accuraccy: 0.886\n",
      "No improvement in this epoch.\n",
      "EPOCH 17:\n"
     ]
    },
    {
     "name": "stderr",
     "output_type": "stream",
     "text": [
      "100%|██████████| 985/985 [00:04<00:00, 213.15it/s]\n"
     ]
    },
    {
     "name": "stdout",
     "output_type": "stream",
     "text": [
      "TRAIN loss: 0.200, VALIDATION loss: 0.360, accuraccy: 0.886\n",
      "No improvement in this epoch.\n",
      "EPOCH 18:\n"
     ]
    },
    {
     "name": "stderr",
     "output_type": "stream",
     "text": [
      "100%|██████████| 985/985 [00:04<00:00, 223.55it/s]\n"
     ]
    },
    {
     "name": "stdout",
     "output_type": "stream",
     "text": [
      "TRAIN loss: 0.196, VALIDATION loss: 0.355, accuraccy: 0.886\n",
      "No improvement in this epoch.\n",
      "EPOCH 19:\n"
     ]
    },
    {
     "name": "stderr",
     "output_type": "stream",
     "text": [
      "100%|██████████| 985/985 [00:04<00:00, 237.47it/s]\n"
     ]
    },
    {
     "name": "stdout",
     "output_type": "stream",
     "text": [
      "TRAIN loss: 0.184, VALIDATION loss: 0.360, accuraccy: 0.889\n",
      "Saving best model\n",
      "EPOCH 20:\n"
     ]
    },
    {
     "name": "stderr",
     "output_type": "stream",
     "text": [
      "100%|██████████| 985/985 [00:04<00:00, 224.36it/s]\n"
     ]
    },
    {
     "name": "stdout",
     "output_type": "stream",
     "text": [
      "TRAIN loss: 0.179, VALIDATION loss: 0.365, accuraccy: 0.883\n",
      "No improvement in this epoch.\n"
     ]
    }
   ],
   "execution_count": 572
  },
  {
   "metadata": {},
   "cell_type": "markdown",
   "source": "Načteme model s nejlepším výsledkem přesnosti na validační množině."
  },
  {
   "metadata": {
    "ExecuteTime": {
     "end_time": "2024-05-06T17:10:43.770547Z",
     "start_time": "2024-05-06T17:10:43.757151Z"
    }
   },
   "cell_type": "code",
   "source": [
    "model_path = \"saves/best_model_conv_dropout.pt\"\n",
    "model_conv_dropout.load_state_dict(torch.load(model_path))"
   ],
   "outputs": [
    {
     "data": {
      "text/plain": [
       "<All keys matched successfully>"
      ]
     },
     "execution_count": 573,
     "metadata": {},
     "output_type": "execute_result"
    }
   ],
   "execution_count": 573
  },
  {
   "metadata": {},
   "cell_type": "markdown",
   "source": "Vizualizujeme dynamiku změn různých metrik během trénování modelu."
  },
  {
   "metadata": {
    "ExecuteTime": {
     "end_time": "2024-05-06T17:10:43.782128Z",
     "start_time": "2024-05-06T17:10:43.772229Z"
    }
   },
   "cell_type": "code",
   "source": [
    "epochs = np.array(epochs)\n",
    "\n",
    "validation_loss_np = [tensor.cpu().numpy() for tensor in validation_loss]\n",
    "validation_loss = np.array(validation_loss_np)\n",
    "\n",
    "validation_accuracy_np = [tensor.cpu().numpy() for tensor in validation_accuracy]\n",
    "validation_accuracy = np.array(validation_accuracy_np)"
   ],
   "outputs": [],
   "execution_count": 574
  },
  {
   "metadata": {
    "ExecuteTime": {
     "end_time": "2024-05-06T17:10:43.964766Z",
     "start_time": "2024-05-06T17:10:43.785247Z"
    }
   },
   "cell_type": "code",
   "source": "showTrainingProcess()",
   "outputs": [
    {
     "data": {
      "text/plain": [
       "<Figure size 640x480 with 1 Axes>"
      ],
      "image/png": "[encoded data removed]"
     },
     "metadata": {},
     "output_type": "display_data"
    }
   ],
   "execution_count": 575
  },
  {
   "metadata": {},
   "cell_type": "markdown",
   "source": "Z výše uvedeného grafu lze odvodit, že nejlepší výsledek zaznamenal model po 19 epochách."
  },
  {
   "metadata": {},
   "cell_type": "markdown",
   "source": "Přepočítáme přesnost nejlepšího modelu na validační množině a vypíšeme **Confusion matrix**."
  },
  {
   "metadata": {
    "ExecuteTime": {
     "end_time": "2024-05-06T17:10:44.285144Z",
     "start_time": "2024-05-06T17:10:43.966756Z"
    }
   },
   "cell_type": "code",
   "source": [
    "val_predictions = np.zeros(len(val_data))\n",
    "val_y = np.zeros(len(val_data))\n",
    "ii = 0\n",
    "\n",
    "bestModelPerformance(model_conv_dropout, ii)\n",
    "\n",
    "print(f\"Validation accuracy of the best model: {CNN_dropout_acc:.04f}\")\n",
    "\n",
    "# Confusion matrix\n",
    "cnf_matrix = confusion_matrix(val_y, val_predictions)\n",
    "print(cnf_matrix)"
   ],
   "outputs": [
    {
     "name": "stderr",
     "output_type": "stream",
     "text": [
      "100%|██████████| 99/99 [00:00<00:00, 326.89it/s]"
     ]
    },
    {
     "name": "stdout",
     "output_type": "stream",
     "text": [
      "Validation accuracy of the best model: 0.8891\n",
      "[[1017    1   10   56    4    5  120    0   11    0]\n",
      " [   2 1241    1   39    1    0    4    0    0    0]\n",
      " [  23    2 1042   16   72    2  104    0    0    0]\n",
      " [  19    2   11 1171   30    0   32    0    2    0]\n",
      " [   2    2   98   43 1003    1   93    0    1    2]\n",
      " [   0    0    1    0    0 1214    0   35    2   19]\n",
      " [ 170    1   78   43   76    0  875    0    9    0]\n",
      " [   0    0    0    0    0   18    0 1214    0   39]\n",
      " [   2    2    6    9    4    3    8    3 1219    3]\n",
      " [   0    1    0    0    0    9    0   44    1 1207]]\n"
     ]
    },
    {
     "name": "stderr",
     "output_type": "stream",
     "text": [
      "\n"
     ]
    }
   ],
   "execution_count": 576
  },
  {
   "metadata": {},
   "cell_type": "markdown",
   "source": [
    "* Výsledky validační přesnosti (88.91%) naznačují, že zapojení **dropoutu** bylo výhodné a vedlo k získání nejlepšího modelu v našem kontextu. \n",
    "* Tento fakt potvrzuje i matice záměn, která vykazuje vyšší hodnoty na hlavní diagonále (kde jsou správně klasifikované instance) a nižší hodnoty mimo ni (kde jsou chybně klasifikované instance)."
   ]
  },
  {
   "metadata": {},
   "cell_type": "markdown",
   "source": [
    "## Final model\n",
    "\n",
    "Sestavíme tabulku, která názorně ukáže výsledky přesnosti predikce na validační množině u každého modelu."
   ]
  },
  {
   "metadata": {
    "ExecuteTime": {
     "end_time": "2024-05-06T17:10:44.294854Z",
     "start_time": "2024-05-06T17:10:44.286693Z"
    }
   },
   "cell_type": "code",
   "source": [
    "table = {\n",
    "    'Model' : ['ForwardNN', 'ConvolutionalNN'],\n",
    "    'Original' : [FNN_acc.cpu().item(), CNN_acc.cpu().item()],\n",
    "    'Dropout' : [FNN_dropout_acc.cpu().item(), CNN_dropout_acc.cpu().item()],\n",
    "    'Dropout + L1': [FNN_dropout_lreg_acc.cpu().item(), None]\n",
    "}\n",
    "\n",
    "Accuracy = pd.DataFrame(table)\n",
    "print(round(Accuracy, 2))"
   ],
   "outputs": [
    {
     "name": "stdout",
     "output_type": "stream",
     "text": [
      "             Model  Original  Dropout  Dropout + L1\n",
      "0        ForwardNN      0.83     0.85          0.84\n",
      "1  ConvolutionalNN      0.88     0.89           NaN\n"
     ]
    }
   ],
   "execution_count": 577
  },
  {
   "metadata": {},
   "cell_type": "markdown",
   "source": "Z tabulky je vidět, že nejlepším modelem je model **ConvolutionalNN**, který byl aplikován v kombinaci s technikou regularizace **Dropout**."
  },
  {
   "metadata": {
    "ExecuteTime": {
     "end_time": "2024-05-06T17:10:44.300503Z",
     "start_time": "2024-05-06T17:10:44.296475Z"
    }
   },
   "cell_type": "code",
   "source": "final_model = model_conv_dropout",
   "outputs": [],
   "execution_count": 578
  },
  {
   "metadata": {},
   "cell_type": "markdown",
   "source": "Nakonec můžeme natrénovat finální model a zjistit předpokládanou přesnost klasifikace nových obrázků."
  },
  {
   "metadata": {
    "ExecuteTime": {
     "end_time": "2024-05-06T17:10:55.910885Z",
     "start_time": "2024-05-06T17:10:55.495177Z"
    }
   },
   "cell_type": "code",
   "source": [
    "test_predictions = np.zeros(len(test_data))\n",
    "test_y = np.zeros(len(test_data))\n",
    "ii = 0\n",
    "for tdata in tqdm(test_loader_standard):\n",
    "    tinputs, tlabels = tdata\n",
    "    tinputs, tlabels = tinputs.to(device), tlabels.to(device)\n",
    "    with torch.no_grad():\n",
    "        toutputs = final_model(tinputs)\n",
    "    test_predictions[ii:(ii + tinputs.shape[0])] = toutputs.argmax(1).cpu().numpy()\n",
    "    test_y[ii:(ii + tinputs.shape[0])] = tlabels.cpu().numpy()\n",
    "    ii += tinputs.shape[0]\n",
    "\n",
    "print(f\"Expected accuracy on new data (test): {accuracy_score(test_y, test_predictions):.02f}\")"
   ],
   "outputs": [
    {
     "name": "stderr",
     "output_type": "stream",
     "text": [
      "100%|██████████| 66/66 [00:00<00:00, 162.79it/s]"
     ]
    },
    {
     "name": "stdout",
     "output_type": "stream",
     "text": [
      "Expected accuracy on new data (test): 0.89\n"
     ]
    },
    {
     "name": "stderr",
     "output_type": "stream",
     "text": [
      "\n"
     ]
    }
   ],
   "execution_count": 580
  },
  {
   "metadata": {},
   "cell_type": "markdown",
   "source": [
    "Poslední kroky:\n",
    "1. Připravíme data z datasetu `evaluate.csv` \n",
    "2. Pomocí finálního modelu klasifikujeme obrázky. \n",
    "3. Výsledek zapíšeme do souboru `results.csv`. \n",
    "4. Uložíme finální model do souboru `saves/final_model.pt`."
   ]
  },
  {
   "metadata": {
    "ExecuteTime": {
     "end_time": "2024-05-06T17:11:00.040792Z",
     "start_time": "2024-05-06T17:10:57.692938Z"
    }
   },
   "cell_type": "code",
   "source": [
    "evaluate = pd.read_csv(\"evaluate.csv\")\n",
    "\n",
    "# Transform evaluate data using the fitted scaler\n",
    "evaluate_scaled = standard_scaler.transform(evaluate.drop(columns = 'ID'))\n",
    "\n",
    "evaluate_scaled = evaluate_scaled.reshape(-1, 1, 32, 32)\n",
    "evaluate_scaled = torch.tensor(evaluate_scaled, dtype=torch.float)\n",
    "evaluate_scaled = torch.utils.data.TensorDataset(evaluate_scaled)\n",
    "eval_loader = torch.utils.data.DataLoader(evaluate_scaled, batch_size=128, shuffle=False)"
   ],
   "outputs": [],
   "execution_count": 581
  },
  {
   "metadata": {
    "ExecuteTime": {
     "end_time": "2024-05-06T17:11:14.971088Z",
     "start_time": "2024-05-06T17:11:14.333028Z"
    }
   },
   "cell_type": "code",
   "source": [
    "predictions = np.zeros(len(evaluate_scaled))\n",
    "ii = 0\n",
    "for data in tqdm(eval_loader):\n",
    "    inputs = data[0].to(device)\n",
    "    with torch.no_grad():\n",
    "        outputs = final_model(inputs)\n",
    "    predictions[ii:(ii + inputs.shape[0])] = outputs.argmax(1).cpu().numpy()\n",
    "    ii += inputs.shape[0]"
   ],
   "outputs": [
    {
     "name": "stderr",
     "output_type": "stream",
     "text": [
      "100%|██████████| 137/137 [00:00<00:00, 218.72it/s]\n"
     ]
    }
   ],
   "execution_count": 586
  },
  {
   "metadata": {
    "ExecuteTime": {
     "end_time": "2024-05-06T17:11:15.539435Z",
     "start_time": "2024-05-06T17:11:15.525268Z"
    }
   },
   "cell_type": "code",
   "source": [
    "results = pd.DataFrame({'ID': evaluate.iloc[:, 0], 'label': predictions})\n",
    "results[\"label\"] = results[\"label\"].astype(int)\n",
    "results.to_csv('results.csv', index=False)"
   ],
   "outputs": [],
   "execution_count": 587
  },
  {
   "metadata": {
    "ExecuteTime": {
     "end_time": "2024-05-06T17:11:15.919476Z",
     "start_time": "2024-05-06T17:11:15.903722Z"
    }
   },
   "cell_type": "code",
   "source": "torch.save(final_model.state_dict(), \"saves/final_model.pt\")",
   "outputs": [],
   "execution_count": 588
  },
  {
   "metadata": {},
   "cell_type": "markdown",
   "source": "Vypíšeme výsledky předpovědí každého labelu finálním modelem."
  },
  {
   "metadata": {
    "ExecuteTime": {
     "end_time": "2024-05-06T17:11:17.006527Z",
     "start_time": "2024-05-06T17:11:17.000561Z"
    }
   },
   "cell_type": "code",
   "source": [
    "value_counts = results['label'].value_counts()\n",
    "value_counts.sort_index(inplace=True)\n",
    "for value, count in value_counts.items():\n",
    "    print(f\"Label: {value}, Count: {count}\")"
   ],
   "outputs": [
    {
     "name": "stdout",
     "output_type": "stream",
     "text": [
      "Label: 0, Count: 1761\n",
      "Label: 1, Count: 1770\n",
      "Label: 2, Count: 1814\n",
      "Label: 3, Count: 1865\n",
      "Label: 4, Count: 1730\n",
      "Label: 5, Count: 1690\n",
      "Label: 6, Count: 1668\n",
      "Label: 7, Count: 1754\n",
      "Label: 8, Count: 1712\n",
      "Label: 9, Count: 1736\n"
     ]
    }
   ],
   "execution_count": 589
  }
 ],
 "metadata": {
  "kernelspec": {
   "display_name": "Python 3 (ipykernel)",
   "language": "python",
   "name": "python3"
  },
  "language_info": {
   "codemirror_mode": {
    "name": "ipython",
    "version": 3
   },
   "file_extension": ".py",
   "mimetype": "text/x-python",
   "name": "python",
   "nbconvert_exporter": "python",
   "pygments_lexer": "ipython3",
   "version": "3.10.11"
  }
 },
 "nbformat": 4,
 "nbformat_minor": 4
}
